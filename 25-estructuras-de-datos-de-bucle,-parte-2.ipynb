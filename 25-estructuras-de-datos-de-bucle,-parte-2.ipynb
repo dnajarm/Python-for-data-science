{
 "cells": [
  {
   "cell_type": "markdown",
   "metadata": {},
   "source": [
    "## Bucle sobre DataFrame (1)\n",
    "\n",
    "Iterar sobre un Pandas DataFrame generalmente se realiza con el método **iterrows()**. Utilizado en un bucle *for*, cada observación se repite una y otra vez, la etiqueta de la fila y el contenido real de la fila están disponibles:\n",
    "\n",
    "```python\n",
    "for lab, row in brics.iterrows() :\n",
    "    ...\n",
    "```    \n",
    "En este y en los siguientes ejercicios trabajará con el DataFrame *cars*. Contiene información sobre los automóviles per cápita y si las personas conducen hacia la derecha o hacia la izquierda en siete países del mundo.\n",
    "\n",
    "### Actividad\n",
    "\n",
    "+ Escriba un bucle *for* que itera sobre las filas de *cars* y en cada iteración realice dos llamadas **print()**: una para imprimir la etiqueta de la fila y otra para imprimir todos los contenidos de las filas."
   ]
  },
  {
   "cell_type": "code",
   "execution_count": 2,
   "metadata": {},
   "outputs": [
    {
     "name": "stdout",
     "output_type": "stream",
     "text": [
      "US\n",
      "cars_per_cap              809\n",
      "country         United States\n",
      "drives_right             True\n",
      "Name: US, dtype: object\n",
      "AUS\n",
      "cars_per_cap          731\n",
      "country         Australia\n",
      "drives_right        False\n",
      "Name: AUS, dtype: object\n",
      "JPN\n",
      "cars_per_cap      588\n",
      "country         Japan\n",
      "drives_right    False\n",
      "Name: JPN, dtype: object\n",
      "IN\n",
      "cars_per_cap       18\n",
      "country         India\n",
      "drives_right    False\n",
      "Name: IN, dtype: object\n",
      "RU\n",
      "cars_per_cap       200\n",
      "country         Russia\n",
      "drives_right      True\n",
      "Name: RU, dtype: object\n",
      "MOR\n",
      "cars_per_cap         70\n",
      "country         Morocco\n",
      "drives_right       True\n",
      "Name: MOR, dtype: object\n",
      "EG\n",
      "cars_per_cap       45\n",
      "country         Egypt\n",
      "drives_right     True\n",
      "Name: EG, dtype: object\n"
     ]
    }
   ],
   "source": [
    "# Import cars data\n",
    "import pandas as pd\n",
    "cars = pd.read_csv('data/cars.csv', sep =';', index_col=0)\n",
    "\n",
    "# Iterate over rows of cars\n",
    "for lab, row in cars.iterrows():\n",
    "    print(lab)\n",
    "    print(row)"
   ]
  },
  {
   "cell_type": "markdown",
   "metadata": {},
   "source": [
    "## Bucle sobre DataFrame (2)\n",
    "\n",
    "Los datos de fila generados por cada ejecución de **iterrows()** son una serie de Pandas. Este formato no es muy conveniente para imprimir. Afortunadamente, puede seleccionar fácilmente variables de la Serie Pandas usando corchetes:\n",
    "\n",
    "```python\n",
    "for lab, row in brics.iterrows():  \n",
    "    print(row['country'])\n",
    "```\n",
    "### Actividad\n",
    "\n",
    "* Usando los iteradores *lab* y *row*, adapte el código en el bucle for de modo que se imprima la primera iteración \"*US: 809*\", la segunda iteración \"*AUS: 731*\", etc.\n",
    "* La salida debe estar en el formulario \"*country: cars_per_cap*\". Asegúrese de imprimir esta cadena exacta (con el espacio correcto).\n",
    "    * Puede usar *str()* para convertir sus datos enteros en una cadena para poder imprimirlos junto con la etiqueta del país.\n"
   ]
  },
  {
   "cell_type": "code",
   "execution_count": 4,
   "metadata": {},
   "outputs": [
    {
     "name": "stdout",
     "output_type": "stream",
     "text": [
      "US: 809\n",
      "AUS: 731\n",
      "JPN: 588\n",
      "IN: 18\n",
      "RU: 200\n",
      "MOR: 70\n",
      "EG: 45\n"
     ]
    }
   ],
   "source": [
    "# Import cars data\n",
    "import pandas as pd\n",
    "cars = pd.read_csv('data/cars.csv', sep =';', index_col=0)\n",
    "\n",
    "# Adapt for loop\n",
    "for lab, row in cars.iterrows() :\n",
    "    print(lab + \": \" + str(row[\"cars_per_cap\"]))\n",
    "    # print(row)"
   ]
  },
  {
   "cell_type": "markdown",
   "metadata": {},
   "source": [
    "## Agregar columna (1)\n",
    "\n",
    "En el siguiente ejemplo, se agregará la longitud de los nombres del país en el DataFrame *brics* en una nueva columna:\n",
    "\n",
    "```python\n",
    "for lab, row in brics.iterrows() :  \n",
    "    brics.loc[lab, \"name_length\"] = len(row[\"country\"])\n",
    "```    \n",
    "Puede hacer cosas similares en el DataFrame *cars*.\n",
    "\n",
    "### Actividad\n",
    "\n",
    "* Use un bucle *for* para agregar una nueva columna, llamada *COUNTRY*, que contenga una versión en mayúscula de los nombres de países en la columna \"*country*\". Puede usar el método de string **upper()** para esto.\n",
    "* Para ver si su código funcionó, imprima *cars*. No indente este código para que no forme parte del bucle *for*."
   ]
  },
  {
   "cell_type": "code",
   "execution_count": 7,
   "metadata": {},
   "outputs": [
    {
     "name": "stdout",
     "output_type": "stream",
     "text": [
      "     cars_per_cap        country  drives_right        COUNTRY\n",
      "US            809  United States          True  UNITED STATES\n",
      "AUS           731      Australia         False      AUSTRALIA\n",
      "JPN           588          Japan         False          JAPAN\n",
      "IN             18          India         False          INDIA\n",
      "RU            200         Russia          True         RUSSIA\n",
      "MOR            70        Morocco          True        MOROCCO\n",
      "EG             45          Egypt          True          EGYPT\n"
     ]
    }
   ],
   "source": [
    "# Import cars data\n",
    "import pandas as pd\n",
    "cars = pd.read_csv('data/cars.csv', sep =';', index_col=0)\n",
    "\n",
    "# Code for loop that adds COUNTRY column\n",
    "for lab, row in cars.iterrows():\n",
    "    cars.loc[lab,\"COUNTRY\"] = str.upper(row[\"country\"])\n",
    "\n",
    "# Print cars\n",
    "print(cars)"
   ]
  },
  {
   "cell_type": "markdown",
   "metadata": {},
   "source": [
    "Agregar columna (2)\n",
    "--\n",
    "\n",
    "Usar **iterrows()** para iterar sobre cada observación de un Pandas DataFrame es fácil de entender, pero no muy eficiente. En cada iteración, estás creando una nueva serie Pandas.\n",
    "\n",
    "Si desea agregar una columna a un DataFrame llamando a una función en otra columna, el método **iterrows()** en combinación con un bucle *for* no es la mejor opción. En cambio, querrás usar **apply()**.\n",
    "\n",
    "Compare la versión **iterrows()** con la versión **apply()** para obtener el mismo resultado en el DataFrame *brics*:\n",
    "\n",
    "```python\n",
    "for lab, row in brics.iterrows() :  \n",
    "    brics.loc[lab, \"name_length\"] = len(row[\"country\"])\n",
    "\n",
    "brics[\"name_length\"] = brics[\"country\"].apply(len)\n",
    "```\n",
    "Podemos hacer algo similar para llamar al método **upper()** en cada nombre de la columna *country*. Sin embargo, **upper()** es un método, por lo que necesitaremos un enfoque ligeramente diferente:\n",
    "\n",
    "### Actividad\n",
    "\n",
    "* Reemplace el bucle *for* con una línea que usa **.apply(str.upper)**. La llamada debe dar el mismo resultado: se debe agregar una columna *COUNTRY* en mayúscula de los nombres de los países contenida en *cars*.\n",
    "* Como de costumbre, imprima para *cars ver los frutos de su arduo trabajo."
   ]
  },
  {
   "cell_type": "code",
   "execution_count": 8,
   "metadata": {},
   "outputs": [
    {
     "name": "stdout",
     "output_type": "stream",
     "text": [
      "     cars_per_cap        country  drives_right        COUNTRY\n",
      "US            809  United States          True  UNITED STATES\n",
      "AUS           731      Australia         False      AUSTRALIA\n",
      "JPN           588          Japan         False          JAPAN\n",
      "IN             18          India         False          INDIA\n",
      "RU            200         Russia          True         RUSSIA\n",
      "MOR            70        Morocco          True        MOROCCO\n",
      "EG             45          Egypt          True          EGYPT\n"
     ]
    }
   ],
   "source": [
    "# Import cars data\n",
    "import pandas as pd\n",
    "cars = pd.read_csv('data/cars.csv', sep =';', index_col=0)\n",
    "\n",
    "# Use .apply(str.upper)\n",
    "cars[\"COUNTRY\"] = cars[\"country\"].apply(str.upper)\n",
    "print(cars)"
   ]
  },
  {
   "cell_type": "markdown",
   "metadata": {},
   "source": []
  },
  {
   "cell_type": "code",
   "execution_count": null,
   "metadata": {},
   "outputs": [],
   "source": []
  }
 ],
 "metadata": {
  "kernelspec": {
   "display_name": "Python 3",
   "language": "python",
   "name": "python3"
  },
  "language_info": {
   "codemirror_mode": {
    "name": "ipython",
    "version": 3
   },
   "file_extension": ".py",
   "mimetype": "text/x-python",
   "name": "python",
   "nbconvert_exporter": "python",
   "pygments_lexer": "ipython3",
   "version": "3.6.10"
  }
 },
 "nbformat": 4,
 "nbformat_minor": 2
}
