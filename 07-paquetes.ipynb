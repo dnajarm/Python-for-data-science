{
 "cells": [
  {
   "cell_type": "markdown",
   "metadata": {},
   "source": [
    "## Paquete de importación\n",
    "\n",
    "Como científico de datos, algunas nociones de geometría nunca duelen. Actualicemos algunos de los conceptos básicos.\n",
    "\n",
    "Para un algoritmo de agrupamiento elegante, desea encontrar la circunferencia, ***C*** y área ***A***, de un círculo. Cuando el radio del círculo es *r*, puedes calcular ***C*** y ***A*** como:\n",
    "\n",
    "***C= 2 πr  \n",
    "A = πr2***  \n",
    "\n",
    "Para usar la constante *pi*, necesitará el paquete *math*. Una variable *r* ya está codificada en el script. Complete el código para calcular ***C*** y ***A*** vea cómo las funciones **print()**  crean algunas impresiones agradables.\n",
    "\n",
    "**Actividad**\n",
    "\n",
    "* Importe el paquete *math*. Ahora puedes acceder a la constante *pi* con *math.pi*.\n",
    "* Calcule la circunferencia del círculo y guárdelo *C*.\n",
    "* Calcule el área del círculo y guárdelo *A*.\n",
    "\n"
   ]
  },
  {
   "cell_type": "code",
   "execution_count": 2,
   "metadata": {},
   "outputs": [
    {
     "name": "stdout",
     "output_type": "stream",
     "text": [
      "Circumference: 2.701769682087222\n",
      "Area: 0.5808804816487527\n"
     ]
    }
   ],
   "source": [
    "# Definition of radius\n",
    "r = 0.43\n",
    "\n",
    "# Import the math package\n",
    "import math\n",
    "\n",
    "# Calculate C\n",
    "C = 2*math.pi*r\n",
    "\n",
    "# Calculate A\n",
    "A = math.pi*r**2\n",
    "\n",
    "# Build printout\n",
    "print(\"Circumference: \" + str(C))\n",
    "print(\"Area: \" + str(A))"
   ]
  },
  {
   "cell_type": "markdown",
   "metadata": {},
   "source": [
    "## Importación selectiva\n",
    "\n",
    "Las importaciones generales, como *import math*, ponen a su disposición toda la funcionalidad del paquete *math*. Sin embargo, si decide usar solo una parte específica de un paquete, siempre puede hacer que su importación sea más selectiva:\n",
    "\n",
    "*from math import pi*\n",
    "Digamos que la órbita de la Luna alrededor del planeta Tierra es un círculo perfecto, con un radio *r* (en km) que se define en el guión.\n",
    "\n",
    "**Actividad**\n",
    "\n",
    "* Realice una importación selectiva desde el paquete *math* donde solo importa la función **radians**.\n",
    "* Calcule la distancia recorrida por la Luna a lo largo de 12 grados de su órbita. Asignar el resultado a *dist*. Puede calcular esto como *r * phi*, donde *r* es el radio y *phi* es el ángulo en radianes. Para convertir un ángulo en grados a un ángulo en radianes, use la función *radians()* que acaba de importar.\n",
    "* Imprimir *dist*.\n"
   ]
  },
  {
   "cell_type": "code",
   "execution_count": 3,
   "metadata": {},
   "outputs": [
    {
     "name": "stdout",
     "output_type": "stream",
     "text": [
      "40317.10572106901\n"
     ]
    }
   ],
   "source": [
    "# Definition of radius\n",
    "r = 192500\n",
    "\n",
    "# Import radians function of math package\n",
    "from math import radians\n",
    "\n",
    "# Travel distance of Moon over 12 degrees. Store in dist.\n",
    "dist = r*radians(12)\n",
    "\n",
    "# Print out dist\n",
    "print(dist)"
   ]
  },
  {
   "cell_type": "markdown",
   "metadata": {},
   "source": [
    "## Diferentes formas de importar\n",
    "Hay varias formas de importar paquetes y módulos en Python. Dependiendo de la llamada de importación, tendrá que usar un código Python diferente.\n",
    "\n",
    "Suponga que desea usar la función **inv()**, que se encuentra en el subpaquete *linalg* del *scipypaquete*. Desea poder utilizar esta función de la siguiente manera:\n",
    "\n",
    "my_inv([[1,2], [3,4]])\n",
    "\n",
    "¿Qué enunciado import necesitará para ejecutar el código anterior sin un error?\n",
    "\n",
    "**Respuestas posibles**\n",
    "* import scipy\n",
    "* import scipy.linalg\n",
    "* from scipy.linalg import my_inv\n",
    "* from scipy.linalg import inv as my_inv"
   ]
  },
  {
   "cell_type": "code",
   "execution_count": null,
   "metadata": {},
   "outputs": [],
   "source": []
  }
 ],
 "metadata": {
  "kernelspec": {
   "display_name": "Python 3",
   "language": "python",
   "name": "python3"
  },
  "language_info": {
   "codemirror_mode": {
    "name": "ipython",
    "version": 3
   },
   "file_extension": ".py",
   "mimetype": "text/x-python",
   "name": "python",
   "nbconvert_exporter": "python",
   "pygments_lexer": "ipython3",
   "version": "3.7.3"
  }
 },
 "nbformat": 4,
 "nbformat_minor": 2
}
