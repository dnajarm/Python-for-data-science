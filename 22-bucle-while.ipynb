{
 "cells": [
  {
   "cell_type": "markdown",
   "metadata": {},
   "source": [
    "## Introducción: While\n",
    "\n",
    "El ciclo while es como una declaración if repetitiva. El código se ejecuta una y otra vez, siempre que la condición sea *True*. Echa otro vistazo a su receta.\n",
    "\n",
    "**while condition :\n",
    "    expression**\n",
    "    \n",
    "¿Puedes decir cuántas impresiones hará *while* el siguiente ciclo?\n",
    "\n",
    "**x = 1  \n",
    "while x < 4 :  \n",
    "&nbsp;&nbsp;&nbsp;&nbsp;&nbsp;&nbsp;    print(x)  \n",
    "&nbsp;&nbsp;&nbsp;&nbsp;&nbsp;&nbsp;    x = x + 1**\n",
    "\n",
    "**Respuestas posibles**\n",
    "\n",
    "* 0 \n",
    "* 1  \n",
    "* 2  \n",
    "* 3  \n",
    "* 4"
   ]
  },
  {
   "cell_type": "markdown",
   "metadata": {},
   "source": [
    "## Bucle while básico\n",
    "\n",
    "A continuación la variable error, inicialmente igual a 50.0, se divide por 4 y se imprime en cada ejecución:\n",
    "\n",
    "**error = 50.0  \n",
    "while error > 1 :  \n",
    "&nbsp;&nbsp;&nbsp;&nbsp;&nbsp;&nbsp;    error = error / 4  \n",
    "&nbsp;&nbsp;&nbsp;&nbsp;&nbsp;&nbsp;    print(error)**\n",
    "    \n",
    "¡Este ejemplo será útil, porque es hora de construir un ciclo while usted mismo! Vamos a codificar un bucle *while* que implementa un sistema de control muy básico para un péndulo invertido. Si hay un desplazamiento por estar perfectamente erguido, el bucle *while* solucionará gradualmente este desplazamiento.\n",
    "\n",
    "Tenga en cuenta que si su ciclo *while* tarda demasiado en ejecutarse, es posible que haya cometido un error. En particular, recuerde indentar el contenido del bucle!\n",
    "\n",
    "**Actividad**\n",
    "\n",
    "* Cree la variable *offset* con un valor inicial de *8*.\n",
    "* Codifique un bucle *while* que siga ejecutándose mientras *offset* no sea igual a 0. Dentro del bucle *while*:\n",
    "    * Imprime la palabra \"correcting...\".\n",
    "    * Luego, disminuya el valor de *offset* en 1. Puede hacer esto con *offset = offset - 1*.\n",
    "    * Finalmente, aún dentro de su ciclo, imprima *offset* para que pueda ver cómo cambia.\n"
   ]
  },
  {
   "cell_type": "code",
   "execution_count": 1,
   "metadata": {},
   "outputs": [
    {
     "name": "stdout",
     "output_type": "stream",
     "text": [
      "correcting...\n",
      "7\n",
      "correcting...\n",
      "6\n",
      "correcting...\n",
      "5\n",
      "correcting...\n",
      "4\n",
      "correcting...\n",
      "3\n",
      "correcting...\n",
      "2\n",
      "correcting...\n",
      "1\n",
      "correcting...\n",
      "0\n"
     ]
    }
   ],
   "source": [
    "# Initialize offset\n",
    "offset = 8\n",
    "\n",
    "# Code the while loop\n",
    "while offset != 0:\n",
    "    print(\"correcting...\")\n",
    "    offset = offset -1\n",
    "    print(offset)"
   ]
  },
  {
   "cell_type": "markdown",
   "metadata": {},
   "source": [
    "## Agregar condicionales\n",
    "\n",
    "El ciclo while que corrige *offset* es un buen comienzo, pero ¿y si *offset* es negativo? Puede intentar ejecutar el siguiente código donde *offset* se inicializa para -6:\n",
    "\n",
    "**# Initialize offset  \n",
    "offset = -6**\n",
    "\n",
    "**# Code the while loop  \n",
    "while offset != 0 :  \n",
    "&nbsp;&nbsp;&nbsp;&nbsp;&nbsp;&nbsp;    print(\"correcting...\")  \n",
    "&nbsp;&nbsp;&nbsp;&nbsp;&nbsp;&nbsp;    offset = offset - 1  \n",
    "&nbsp;&nbsp;&nbsp;&nbsp;&nbsp;&nbsp;    print(offset)**\n",
    "    \n",
    "pero tu sesión se desconectará. El bucle while nunca dejará de ejecutarse, porque *offset* se reducirá aún más en cada ejecución. Por lo tanto, offset != 0 nunca se convertirá False y el ciclo while continúa para siempre.\n",
    "\n",
    "Arregle las cosas poniendo una declaración **if- else** dentro del ciclo *while*. Si su código aún tarda demasiado en ejecutarse, ¡probablemente haya cometido un error!\n",
    "\n",
    "**Actividad**\n",
    "\n",
    "* **Dentro** del bucle *while*, complete la declaración *if- else*:\n",
    "    * Si *offset* es mayor que cero, debe disminuir *offset* en 1.\n",
    "    * De lo contrario, deberías aumentar *offset* en 1.\n",
    "* Si ha codificado las cosas correctamente, ejecutar debería funcionar esta vez.\n",
    "* Si su código todavía tarda demasiado en ejecutarse (o su sesión está caducando), probablemente cometió un error. ¡Verifique su código y asegúrese de que la declaración **offset != 0** eventualmente se evalúe *FALSE!*"
   ]
  },
  {
   "cell_type": "code",
   "execution_count": 2,
   "metadata": {},
   "outputs": [
    {
     "name": "stdout",
     "output_type": "stream",
     "text": [
      "correcting...\n",
      "-5\n",
      "correcting...\n",
      "-4\n",
      "correcting...\n",
      "-3\n",
      "correcting...\n",
      "-2\n",
      "correcting...\n",
      "-1\n",
      "correcting...\n",
      "0\n"
     ]
    }
   ],
   "source": [
    "# Initialize offset\n",
    "offset = -6\n",
    "\n",
    "# Code the while loop\n",
    "while offset != 0 :\n",
    "    print(\"correcting...\")\n",
    "    if offset>0 :\n",
    "      offset = offset - 1\n",
    "    else : \n",
    "      offset = offset + 1    \n",
    "    print(offset)"
   ]
  }
 ],
 "metadata": {
  "kernelspec": {
   "display_name": "Python 3",
   "language": "python",
   "name": "python3"
  },
  "language_info": {
   "codemirror_mode": {
    "name": "ipython",
    "version": 3
   },
   "file_extension": ".py",
   "mimetype": "text/x-python",
   "name": "python",
   "nbconvert_exporter": "python",
   "pygments_lexer": "ipython3",
   "version": "3.7.3"
  }
 },
 "nbformat": 4,
 "nbformat_minor": 2
}
