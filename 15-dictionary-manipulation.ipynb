{
 "cells": [
  {
   "cell_type": "markdown",
   "metadata": {},
   "source": [
    "## Manipulación de Diccionarios (1)\n",
    "\n",
    "Si sabe cómo acceder a un diccionario, también puede asignarle un nuevo valor. Para agregar un nuevo par clave-valor europe, puede usar algo como esto:\n",
    "\n",
    "**europe['iceland'] = 'reykjavik'**\n",
    "\n",
    "**Actividad**\n",
    "* Agregue la clave *'italy'* con el valor *'rome'* a *europe*.\n",
    "* Para afirmar que *'italy'* ahora es una clave de *europe*, imprima *'italy'* in *europe*.\n",
    "* Agregue otra clave: valor par a *europe: 'poland'* es la clave, *'warsaw'* es el valor correspondiente.\n",
    "* Imprimir *europe*."
   ]
  },
  {
   "cell_type": "code",
   "execution_count": 1,
   "metadata": {},
   "outputs": [
    {
     "name": "stdout",
     "output_type": "stream",
     "text": [
      "True\n",
      "{'spain': 'madrid', 'france': 'paris', 'germany': 'berlin', 'norway': 'oslo', 'italy': 'rome', 'poland': 'warsaw'}\n"
     ]
    }
   ],
   "source": [
    "# Definition of dictionary\n",
    "europe = {'spain':'madrid', 'france':'paris', 'germany':'berlin', 'norway':'oslo' }\n",
    "\n",
    "# Add italy to europe\n",
    "europe['italy'] = 'rome'\n",
    "\n",
    "# Print out italy in europe\n",
    "print('italy' in europe)\n",
    "\n",
    "# Add poland to europe\n",
    "europe['poland'] = 'warsaw'\n",
    "\n",
    "# Print europe\n",
    "print(europe)"
   ]
  },
  {
   "cell_type": "markdown",
   "metadata": {},
   "source": [
    "## Manipulación de Diccionarios (2)\n",
    "\n",
    "Alguien pensó que sería divertido meterse con su diccionario generado con precisión. Una versión adaptada del diccionario *europe* está disponible en el script.\n",
    "\n",
    "¿Puedes limpiar? No haga esto adaptando la definición de *europe*, sino agregando comandos de Python al script para actualizar y eliminar pares clave: valor.\n",
    "\n",
    "**Actividad**\n",
    "\n",
    "* La capital de Alemania no es *'bonn'*; es *'berlin'*. Actualiza su valor.\n",
    "* ¡ no está en Europa, Austria sí! Retire la clave *'australia'* de europe.\n",
    "* Imprima *europe* para ver si su trabajo de limpieza valió la pena."
   ]
  },
  {
   "cell_type": "code",
   "execution_count": 2,
   "metadata": {},
   "outputs": [
    {
     "name": "stdout",
     "output_type": "stream",
     "text": [
      "{'spain': 'madrid', 'france': 'paris', 'germany': 'berlin', 'norway': 'oslo', 'italy': 'rome', 'poland': 'warsaw'}\n"
     ]
    }
   ],
   "source": [
    "# Definition of dictionary\n",
    "europe = {'spain':'madrid', 'france':'paris', 'germany':'bonn',\n",
    "          'norway':'oslo', 'italy':'rome', 'poland':'warsaw',\n",
    "          'australia':'vienna' }\n",
    "\n",
    "# Update capital of germany\n",
    "europe['germany'] = 'berlin'\n",
    "\n",
    "# Remove australia\n",
    "del(europe['australia'])\n",
    "\n",
    "# Print europe\n",
    "print(europe)"
   ]
  },
  {
   "cell_type": "markdown",
   "metadata": {},
   "source": [
    "## Dictionariception\n",
    "\n",
    "¿Recuerdas las listas? Podrían contener cualquier cosa, incluso otras listas. Bueno, para los diccionarios lo mismo vale. Los diccionarios pueden contener pares clave: valor donde los valores son nuevamente diccionarios.\n",
    "\n",
    "Como ejemplo, eche un vistazo al script donde *europe* está codificada otra versión del diccionario con el que ha estado trabajando todo el tiempo. Las claves siguen siendo los nombres de los países, pero los valores son diccionarios que contienen más información que solo la capital.\n",
    "\n",
    "Es perfectamente posible encadenar corchetes para seleccionar elementos. Para buscar la población de España *europe*, por ejemplo, necesita:\n",
    "\n",
    "**europe['spain']['population']**\n",
    "\n",
    "**Actividad**\n",
    "\n",
    "* Use corchetes encadenados para seleccionar e imprimir la capital de Francia.\n",
    "* Cree un diccionario, llamado *data*, con las claves *'capital'* y *'population'*. Póngalos en *'rome'* y 59.83, respectivamente.\n",
    "* Agregue un nuevo par clave-valor a europe; la clave es *'italy'* y el valor es *data* el diccionario que acaba de construir.\n"
   ]
  },
  {
   "cell_type": "code",
   "execution_count": 3,
   "metadata": {},
   "outputs": [
    {
     "name": "stdout",
     "output_type": "stream",
     "text": [
      "paris\n",
      "{'spain': {'capital': 'madrid', 'population': 46.77}, 'france': {'capital': 'paris', 'population': 66.03}, 'germany': {'capital': 'berlin', 'population': 80.62}, 'norway': {'capital': 'oslo', 'population': 5.084}, 'italy': {'capital': 'rome', 'population': 59.83}}\n"
     ]
    }
   ],
   "source": [
    "# Dictionary of dictionaries\n",
    "europe = { 'spain': { 'capital':'madrid', 'population':46.77 },\n",
    "           'france': { 'capital':'paris', 'population':66.03 },\n",
    "           'germany': { 'capital':'berlin', 'population':80.62 },\n",
    "           'norway': { 'capital':'oslo', 'population':5.084 } }\n",
    "\n",
    "\n",
    "# Print out the capital of France\n",
    "print(europe['france']['capital'])\n",
    "\n",
    "# Create sub-dictionary data\n",
    "data = {'capital':'rome', 'population':59.83}\n",
    "\n",
    "# Add data to europe under key 'italy'\n",
    "europe['italy'] = data\n",
    "\n",
    "# Print europe\n",
    "print(europe)"
   ]
  },
  {
   "cell_type": "code",
   "execution_count": null,
   "metadata": {},
   "outputs": [],
   "source": []
  }
 ],
 "metadata": {
  "kernelspec": {
   "display_name": "Python 3",
   "language": "python",
   "name": "python3"
  },
  "language_info": {
   "codemirror_mode": {
    "name": "ipython",
    "version": 3
   },
   "file_extension": ".py",
   "mimetype": "text/x-python",
   "name": "python",
   "nbconvert_exporter": "python",
   "pygments_lexer": "ipython3",
   "version": "3.7.3"
  }
 },
 "nbformat": 4,
 "nbformat_minor": 2
}
