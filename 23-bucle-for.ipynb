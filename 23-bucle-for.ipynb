{
 "cells": [
  {
   "cell_type": "markdown",
   "metadata": {},
   "source": [
    "## Recorrer una lista\n",
    "\n",
    "**fam = [1.73, 1.68, 1.71, 1.89]  \n",
    "for height in fam :   \n",
    "&nbsp;&nbsp;&nbsp;&nbsp;&nbsp;&nbsp;    print(height)**\n",
    "\n",
    "Como de costumbre, simplemente tiene que indentar el código con 4 espacios para indicarle a Python qué código debe ejecutarse en el bucle for.\n",
    "\n",
    "La variable *areas*, que contiene el área de diferentes habitaciones en su casa, ya está definida.\n",
    "\n",
    "**Actividad**\n",
    "\n",
    "* Escriba un bucle for que repita todos los elementos de la lista *areas* e imprima cada elemento por separado."
   ]
  },
  {
   "cell_type": "code",
   "execution_count": 1,
   "metadata": {},
   "outputs": [
    {
     "name": "stdout",
     "output_type": "stream",
     "text": [
      "11.25\n",
      "18.0\n",
      "20.0\n",
      "10.75\n",
      "9.5\n"
     ]
    }
   ],
   "source": [
    "# areas list\n",
    "areas = [11.25, 18.0, 20.0, 10.75, 9.50]\n",
    "\n",
    "# Code the for loop\n",
    "for room in areas:\n",
    "    print(room)"
   ]
  },
  {
   "cell_type": "markdown",
   "metadata": {},
   "source": [
    "## Índices y valores (1)\n",
    "\n",
    "El uso de un bucle for para iterar sobre una lista solo le da acceso a cada elemento de la lista en cada ejecución, uno tras otro. Si también desea acceder a la información del índice, puede ubicar el elemento de la lista sobre el que está iterando enumerate().\n",
    "\n",
    "Como ejemplo, eche un vistazo a cómo forse convirtió el bucle del video:\n",
    "\n",
    "**fam = [1.73, 1.68, 1.71, 1.89]\n",
    "for index, height in enumerate(fam) :\n",
    "&nbsp;&nbsp;&nbsp;&nbsp;&nbsp;&nbsp;    print(\"person \" + str(index) + \": \" + str(height))**\n",
    "\n",
    "**Actividad**\n",
    "\n",
    "* Adapte el bucle *for* en el código de muestra para usar **enumerate()** y use dos variables iteradoras.\n",
    "* Actualice la declaración **print()** para que en cada ejecución, \"*room a: b*\" se imprima una línea del formulario , donde **a** es el índice del elemento de la lista y **b** es el elemento de la lista real, es decir, el área. Asegúrese de imprimir esta cadena exacta, con el espacio correcto."
   ]
  },
  {
   "cell_type": "code",
   "execution_count": 2,
   "metadata": {},
   "outputs": [
    {
     "name": "stdout",
     "output_type": "stream",
     "text": [
      "room 0: 11.25\n",
      "room 1: 18.0\n",
      "room 2: 20.0\n",
      "room 3: 10.75\n",
      "room 4: 9.5\n"
     ]
    }
   ],
   "source": [
    "# areas list\n",
    "areas = [11.25, 18.0, 20.0, 10.75, 9.50]\n",
    "\n",
    "# Change for loop to use enumerate() and update print()\n",
    "for a,b in enumerate(areas) :\n",
    "    print(\"room \" + str(a) + \": \" + str(b))"
   ]
  },
  {
   "cell_type": "markdown",
   "metadata": {},
   "source": [
    "## Índices y valores (2)\n",
    "\n",
    "Para los no programadores, *room 0: 11.25* es extraño. ¿No sería mejor si el conteo comenzara en 1?\n",
    "\n",
    "**Actividad**\n",
    "\n",
    "* Adapte la función **print()** en el bucle *for* para que la primera impresión se convierta \"*room 1: 11.25*\", la segunda \"*room 2: 18.0*\" y así sucesivamente."
   ]
  },
  {
   "cell_type": "code",
   "execution_count": 3,
   "metadata": {},
   "outputs": [
    {
     "name": "stdout",
     "output_type": "stream",
     "text": [
      "room 1: 11.25\n",
      "room 2: 18.0\n",
      "room 3: 20.0\n",
      "room 4: 10.75\n",
      "room 5: 9.5\n"
     ]
    }
   ],
   "source": [
    "# areas list\n",
    "areas = [11.25, 18.0, 20.0, 10.75, 9.50]\n",
    "\n",
    "# Code the for loop\n",
    "for index, area in enumerate(areas) :\n",
    "    print(\"room \" + str(index+1) + \": \" + str(area))"
   ]
  },
  {
   "cell_type": "markdown",
   "metadata": {},
   "source": [
    "## Recorrer la lista de listas\n",
    "\n",
    "¿Recuerdas la variable house del curso de Introducción a Python? Echa un vistazo a su definición. Básicamente es una lista de listas, donde cada sublista contiene el nombre y el área de una habitación en su casa.\n",
    "\n",
    "¡Depende de usted construir un bucle for desde cero esta vez!\n",
    "\n",
    "**Actividad**\n",
    "\n",
    "* Escriba un bucle for que pase por cada sublista de *house* e imprima *the x is y sqm*, donde **x** es el nombre de la habitación e **y** es el área de la habitación."
   ]
  },
  {
   "cell_type": "code",
   "execution_count": 4,
   "metadata": {},
   "outputs": [
    {
     "name": "stdout",
     "output_type": "stream",
     "text": [
      "the hallway is 11.25 sqm\n",
      "the kitchen is 18.0 sqm\n",
      "the living room is 20.0 sqm\n",
      "the bedroom is 10.75 sqm\n",
      "the bathroom is 9.5 sqm\n"
     ]
    }
   ],
   "source": [
    "# house list of lists\n",
    "house = [[\"hallway\", 11.25], \n",
    "         [\"kitchen\", 18.0], \n",
    "         [\"living room\", 20.0], \n",
    "         [\"bedroom\", 10.75], \n",
    "         [\"bathroom\", 9.50]]\n",
    "         \n",
    "# Build a for loop from scratch\n",
    "for list in house:\n",
    "    print(\"the \" + list[0] + \" is \" + str(list[1]) + \" sqm\")"
   ]
  },
  {
   "cell_type": "code",
   "execution_count": null,
   "metadata": {},
   "outputs": [],
   "source": []
  }
 ],
 "metadata": {
  "kernelspec": {
   "display_name": "Python 3",
   "language": "python",
   "name": "python3"
  },
  "language_info": {
   "codemirror_mode": {
    "name": "ipython",
    "version": 3
   },
   "file_extension": ".py",
   "mimetype": "text/x-python",
   "name": "python",
   "nbconvert_exporter": "python",
   "pygments_lexer": "ipython3",
   "version": "3.7.3"
  }
 },
 "nbformat": 4,
 "nbformat_minor": 2
}
