{
 "cells": [
  {
   "cell_type": "markdown",
   "metadata": {},
   "source": [
    "## Corchetes (1)\n",
    "\n",
    "\n",
    "En el código de muestra, los mismos datos de automóviles se importan de un archivo CSV como un DataFrame de Pandas. Para seleccionar solo la columna *cars_per_cap* de *cars*, puede usar:\n",
    "\n",
    "**cars['cars_per_cap']**  \n",
    "**cars[['cars_per_cap']]**\n",
    "\n",
    "La versión de un corchete ofrece una Serie Pandas, la versión de doble corchete ofrece un DataFrame de Pandas.\n",
    "\n",
    "**Actividad**\n",
    "\n",
    "* Use corchetes individuales para imprimir un Series de la columna *country* de *cars* .\n",
    "* Use corchetes dobles para imprimir un DataFrame de la columna *country* de *carsun* .\n",
    "* Use corchetes dobles para imprimir un DataFrame con las columnas *country* y *drives_right* de *cars*, en este orden."
   ]
  },
  {
   "cell_type": "code",
   "execution_count": 3,
   "metadata": {},
   "outputs": [
    {
     "name": "stdout",
     "output_type": "stream",
     "text": [
      "US     United States\n",
      "AUS        Australia\n",
      "JPN            Japan\n",
      "IN             India\n",
      "RU            Russia\n",
      "MOR          Morocco\n",
      "EG             Egypt\n",
      "Name: country, dtype: object\n",
      "           country\n",
      "US   United States\n",
      "AUS      Australia\n",
      "JPN          Japan\n",
      "IN           India\n",
      "RU          Russia\n",
      "MOR        Morocco\n",
      "EG           Egypt\n",
      "           country  drives_right\n",
      "US   United States          True\n",
      "AUS      Australia         False\n",
      "JPN          Japan         False\n",
      "IN           India         False\n",
      "RU          Russia          True\n",
      "MOR        Morocco          True\n",
      "EG           Egypt          True\n"
     ]
    }
   ],
   "source": [
    "# Import cars data\n",
    "import pandas as pd\n",
    "cars = pd.read_csv('data/cars.csv', sep =';', index_col=0)\n",
    "\n",
    "# Print out country column as Pandas Series\n",
    "print(cars['country'])\n",
    "\n",
    "# Print out country column as Pandas DataFrame\n",
    "print(cars[['country']])\n",
    "\n",
    "# Print out DataFrame with country and drives_right columns\n",
    "print(cars[['country', 'drives_right']])"
   ]
  },
  {
   "cell_type": "markdown",
   "metadata": {},
   "source": [
    "## Corchetes (2)\n",
    "\n",
    "Los corchetes pueden hacer más que solo seleccionar columnas. También puede usarlos para obtener filas u observaciones de un DataFrame. La siguiente llamada selecciona las primeras cinco filas del DataFrame *cars*:\n",
    "\n",
    "**cars[0:5]**\n",
    "\n",
    "El resultado es otro DataFrame que contiene solo las filas que especificó.\n",
    "\n",
    "Preste atención: solo puede seleccionar filas usando corchetes si especifica un corte, como 0:4. Además, está utilizando los índices enteros de las filas aquí, ¡no las etiquetas de las filas!\n",
    "\n",
    "**Actividad**\n",
    "\n",
    "* Seleccione las primeras 3 observaciones de *cars* e imprímalas.\n",
    "* Seleccione la cuarta, quinta y sexta observación, correspondiente a los índices de fila 3, 4 y 5, e imprímalos.\n"
   ]
  },
  {
   "cell_type": "code",
   "execution_count": 5,
   "metadata": {},
   "outputs": [
    {
     "name": "stdout",
     "output_type": "stream",
     "text": [
      "     cars_per_cap        country  drives_right\n",
      "US            809  United States          True\n",
      "AUS           731      Australia         False\n",
      "JPN           588          Japan         False\n",
      "     cars_per_cap  country  drives_right\n",
      "IN             18    India         False\n",
      "RU            200   Russia          True\n",
      "MOR            70  Morocco          True\n"
     ]
    }
   ],
   "source": [
    "# Import cars data\n",
    "import pandas as pd\n",
    "cars = pd.read_csv('data/cars.csv', sep =';', index_col=0)\n",
    "\n",
    "# Print out first 3 observations\n",
    "print(cars[0:3])\n",
    "\n",
    "# Print out fourth, fifth and sixth observation\n",
    "print(cars[3:6])"
   ]
  },
  {
   "cell_type": "markdown",
   "metadata": {},
   "source": [
    "## loc e iloc (1)\n",
    "\n",
    "Con *loc* y *iloc* puede hacer prácticamente cualquier operación de selección de datos en DataFrames que se le ocurra. *loc* está basado en etiquetas, lo que significa que debe especificar filas y columnas en función de sus etiquetas de fila y columna. *iloc* está basado en un índice entero, por lo que debe especificar filas y columnas por su índice entero como lo hizo en el ejercicio anterior.\n",
    "\n",
    "Pruebe los siguientes comandos en Jupyter para experimentar *loc* y *iloc* seleccionar observaciones. Cada par de comandos aquí da el mismo resultado.\n",
    "\n",
    "**cars.loc['RU']  \n",
    "cars.iloc[4]**\n",
    "\n",
    "**cars.loc[['RU']]  \n",
    "cars.iloc[[4]]**\n",
    "\n",
    "**cars.loc[['RU', 'AUS']]  \n",
    "cars.iloc[[4, 1]]**\n",
    "\n",
    "**Actividad**\n",
    "\n",
    "* Use *loc* o *iloc* para seleccionar la observación correspondiente a Japón como Serie. La etiqueta de esta fila es JPN, el índice es 2. Asegúrese de imprimir la serie resultante.\n",
    "* Use *loc* o *iloc* para seleccionar las observaciones de Australia y Egipto como un DataFrame. Puede conocer las etiquetas / índices de estas filas inspeccionando *cars*. Asegúrese de imprimir el DataFrame resultante."
   ]
  },
  {
   "cell_type": "code",
   "execution_count": 7,
   "metadata": {},
   "outputs": [
    {
     "name": "stdout",
     "output_type": "stream",
     "text": [
      "cars_per_cap      588\n",
      "country         Japan\n",
      "drives_right    False\n",
      "Name: JPN, dtype: object\n",
      "     cars_per_cap    country  drives_right\n",
      "AUS           731  Australia         False\n",
      "EG             45      Egypt          True\n"
     ]
    }
   ],
   "source": [
    "# Import cars data\n",
    "import pandas as pd\n",
    "cars = pd.read_csv('data/cars.csv', sep =';', index_col=0)\n",
    "\n",
    "# Print out observation for Japan\n",
    "print(cars.loc['JPN'])\n",
    "\n",
    "# Print out observations for Australia and Egypt\n",
    "print(cars.loc[['AUS', 'EG']])"
   ]
  },
  {
   "cell_type": "markdown",
   "metadata": {},
   "source": [
    "## loc e iloc (2)\n",
    "\n",
    "*loc* y *iloc* también le permite seleccionar tanto filas como columnas de un DataFrame. Para experimentar, pruebe los siguientes comandos. Nuevamente, los comandos emparejados producen el mismo resultado.\n",
    "\n",
    "**cars.loc['IN', 'cars_per_cap']  \n",
    "cars.iloc[3, 0]**\n",
    "\n",
    "**cars.loc[['IN', 'RU'], 'cars_per_cap']  \n",
    "cars.iloc[[3, 4], 0]**\n",
    "\n",
    "**cars.loc[['IN', 'RU'], ['cars_per_cap', 'country']]  \n",
    "cars.iloc[[3, 4], [0, 1]]**\n",
    "\n",
    "**Actividad**\n",
    "\n",
    "* Imprima el valor de *drives_right* de la fila correspondiente a Marruecos (su etiqueta de fila es *MOR*)\n",
    "* Imprima un sub-DataFrame, que contiene las observaciones para Rusia y Marruecos y las columnas *country* y *drives_right*."
   ]
  },
  {
   "cell_type": "code",
   "execution_count": 9,
   "metadata": {},
   "outputs": [
    {
     "name": "stdout",
     "output_type": "stream",
     "text": [
      "True\n",
      "     country  drives_right\n",
      "RU    Russia          True\n",
      "MOR  Morocco          True\n"
     ]
    }
   ],
   "source": [
    "# Import cars data\n",
    "import pandas as pd\n",
    "cars = pd.read_csv('data/cars.csv', sep =';', index_col=0)\n",
    "\n",
    "# Print out drives_right value of Morocco\n",
    "print(cars.loc['MOR','drives_right'])\n",
    "\n",
    "# Print sub-DataFrame\n",
    "print(cars.loc[['RU', 'MOR'],['country', 'drives_right']])"
   ]
  },
  {
   "cell_type": "markdown",
   "metadata": {},
   "source": [
    "## loc e iloc (3)\n",
    "\n",
    "También es posible seleccionar solo columnas con *loc* y *iloc*. En ambos casos, simplemente coloca dos puntos para ir de principio a fin delante de la coma:\n",
    "\n",
    "**cars.loc[:, 'country']  \n",
    "cars.iloc[:, 1]**\n",
    "\n",
    "**cars.loc[:, ['country','drives_right']]  \n",
    "cars.iloc[:, [1, 2]]**\n",
    "\n",
    "**Actividad**\n",
    "\n",
    "* Imprima la columna *drives_right* como una serie con *loc* o *iloc*.\n",
    "* Imprima la columna *drives_right* como un DataFrame con *loc* o *iloc*.\n",
    "* Imprima las cars_per_cap y drives_right columnas como un DataFrame con *loc* o *iloc*."
   ]
  },
  {
   "cell_type": "code",
   "execution_count": 11,
   "metadata": {},
   "outputs": [
    {
     "name": "stdout",
     "output_type": "stream",
     "text": [
      "US      True\n",
      "AUS    False\n",
      "JPN    False\n",
      "IN     False\n",
      "RU      True\n",
      "MOR     True\n",
      "EG      True\n",
      "Name: drives_right, dtype: bool\n",
      "     drives_right\n",
      "US           True\n",
      "AUS         False\n",
      "JPN         False\n",
      "IN          False\n",
      "RU           True\n",
      "MOR          True\n",
      "EG           True\n",
      "     cars_per_cap  drives_right\n",
      "US            809          True\n",
      "AUS           731         False\n",
      "JPN           588         False\n",
      "IN             18         False\n",
      "RU            200          True\n",
      "MOR            70          True\n",
      "EG             45          True\n"
     ]
    }
   ],
   "source": [
    "# Import cars data\n",
    "import pandas as pd\n",
    "cars = pd.read_csv('data/cars.csv', sep =';', index_col=0)\n",
    "\n",
    "# Print out drives_right column as Series\n",
    "print(cars.loc[:,'drives_right'])\n",
    "\n",
    "# Print out drives_right column as DataFrame\n",
    "print(cars.loc[:,['drives_right']])\n",
    "\n",
    "# Print out cars_per_cap and drives_right as DataFrame\n",
    "print(cars.loc[:,['cars_per_cap','drives_right']])\n"
   ]
  },
  {
   "cell_type": "code",
   "execution_count": null,
   "metadata": {},
   "outputs": [],
   "source": []
  }
 ],
 "metadata": {
  "kernelspec": {
   "display_name": "Python 3",
   "language": "python",
   "name": "python3"
  },
  "language_info": {
   "codemirror_mode": {
    "name": "ipython",
    "version": 3
   },
   "file_extension": ".py",
   "mimetype": "text/x-python",
   "name": "python",
   "nbconvert_exporter": "python",
   "pygments_lexer": "ipython3",
   "version": "3.7.3"
  }
 },
 "nbformat": 4,
 "nbformat_minor": 2
}
