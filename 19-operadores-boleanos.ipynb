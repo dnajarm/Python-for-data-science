{
 "cells": [
  {
   "cell_type": "markdown",
   "metadata": {},
   "source": [
    "## and, or, not (1)\n",
    "\n",
    "Un booleano es *1* o *0*, *True* o *False*. Con operadores booleanos como *and*, *or* y *not*, puede combinar estos booleanos para realizar consultas más avanzadas en sus datos.\n",
    "\n",
    "En el código se definen dos variables: *my_kitchen* y *your_kitchen*, que representan áreas.\n",
    "\n",
    "**Actividad**\n",
    "\n",
    "* Escriba expresiones de Python, envueltas en una función **print()**, para verificar si:\n",
    "* *my_kitchen* es mayor que 10 y menor que 18.\n",
    "* *my_kitchen* es menor que 14 o mayor que 17.\n",
    "* duplicar el área de *my_kitchen* es menor que el triple del área de *your_kitchen*."
   ]
  },
  {
   "cell_type": "code",
   "execution_count": 1,
   "metadata": {},
   "outputs": [
    {
     "name": "stdout",
     "output_type": "stream",
     "text": [
      "False\n",
      "True\n",
      "True\n"
     ]
    }
   ],
   "source": [
    "# Define variables\n",
    "my_kitchen = 18.0\n",
    "your_kitchen = 14.0\n",
    "\n",
    "# my_kitchen bigger than 10 and smaller than 18?\n",
    "print(my_kitchen > 10 and my_kitchen < 18)\n",
    "\n",
    "# my_kitchen smaller than 14 or bigger than 17?\n",
    "print(my_kitchen < 14 or my_kitchen > 17)\n",
    "\n",
    "# Double my_kitchen smaller than triple your_kitchen?\n",
    "print(2 * my_kitchen < 3 * your_kitchen)"
   ]
  },
  {
   "cell_type": "markdown",
   "metadata": {},
   "source": [
    "## and, or, not (2)\n",
    "\n",
    "Para ver si entendió completamente los operadores booleanos, eche un vistazo al siguiente fragmento de código Python:\n",
    "\n",
    "**x = 8  \n",
    "y = 9  \n",
    "not(not(x < 3) and not(y > 14 or y > 10))**\n",
    "\n",
    "¿Cuál será el resultado si ejecuta estos tres comandos?\n",
    "\n",
    "Nota: Observe que *not* tiene una prioridad más alta que *and* y *or*, se ejecuta primero.\n",
    "\n",
    "**Respuestas posibles**\n",
    "* Cierto\n",
    "* Falso\n",
    "* La ejecución de estos comandos dará como resultado un error."
   ]
  },
  {
   "cell_type": "code",
   "execution_count": null,
   "metadata": {},
   "outputs": [],
   "source": [
    "## evalue sus respuestas\n"
   ]
  },
  {
   "cell_type": "markdown",
   "metadata": {},
   "source": [
    "## Operadores booleanos con Numpy\n",
    "\n",
    "Antes, a los operadores operativos les gustaba *<* y *>=* trabajaban con matrices Numpy listas para usar. Por desgracia, esto no es cierto para los operadores booleanos *and*, *or* y *not*.\n",
    "\n",
    "Para usar estos operadores con Numpy, necesitará **np.logical_and()**, **np.logical_or()** y **np.logical_not()**. Aquí hay un ejemplo de las matrices anteriores *my_house* y *your_house* para darle una idea:\n",
    "\n",
    "**np.logical_and(my_house > 13,  \n",
    "&nbsp;&nbsp;&nbsp;&nbsp;&nbsp;&nbsp;               your_house < 15)**\n",
    "\n",
    "**Actividad**\n",
    "\n",
    "* Genere matrices booleanas que respondan las siguientes preguntas:\n",
    "* ¿Qué áreas en *my_house* son mayores *18.5* o menores que *10*?\n",
    "* ¿Qué áreas son más pequeñas que *11* en ambas *my_house* y *your_house*? Asegúrese de ajustar ambos comandos en la declaración print(), de modo que pueda inspeccionar la salida."
   ]
  },
  {
   "cell_type": "code",
   "execution_count": 3,
   "metadata": {},
   "outputs": [
    {
     "name": "stdout",
     "output_type": "stream",
     "text": [
      "[False  True False  True]\n",
      "[False False False  True]\n"
     ]
    }
   ],
   "source": [
    "# Create arrays\n",
    "import numpy as np\n",
    "my_house = np.array([18.0, 20.0, 10.75, 9.50])\n",
    "your_house = np.array([14.0, 24.0, 14.25, 9.0])\n",
    "\n",
    "# my_house greater than 18.5 or smaller than 10\n",
    "print(np.logical_or(my_house > 18.5, my_house < 10))\n",
    "\n",
    "# Both my_house and your_house smaller than 11\n",
    "print(np.logical_and(my_house < 11, your_house < 11))"
   ]
  },
  {
   "cell_type": "code",
   "execution_count": null,
   "metadata": {},
   "outputs": [],
   "source": []
  }
 ],
 "metadata": {
  "kernelspec": {
   "display_name": "Python 3",
   "language": "python",
   "name": "python3"
  },
  "language_info": {
   "codemirror_mode": {
    "name": "ipython",
    "version": 3
   },
   "file_extension": ".py",
   "mimetype": "text/x-python",
   "name": "python",
   "nbconvert_exporter": "python",
   "pygments_lexer": "ipython3",
   "version": "3.7.3"
  }
 },
 "nbformat": 4,
 "nbformat_minor": 2
}
