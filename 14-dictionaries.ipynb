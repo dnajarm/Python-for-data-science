{
 "cells": [
  {
   "cell_type": "markdown",
   "metadata": {},
   "source": [
    "## Introducción a los diccionarios\n",
    "\n",
    "Para ver por qué los diccionarios son útiles, eche un vistazo a las dos listas definidas abajo. *countries* contiene los nombres de algunos países europeos. *capitals* muestra los nombres correspondientes de su capital.\n",
    "\n",
    "**Actividad**\n",
    "* Use el método **index()** sobre *countries* para encontrar el índice de 'germany'. Almacene este índice como *ind_ger*.\n",
    "* Use *ind_ger* para acceder a la capital de Alemania desde la lista *capitals*. Imprimalo.\n"
   ]
  },
  {
   "cell_type": "code",
   "execution_count": 1,
   "metadata": {},
   "outputs": [
    {
     "name": "stdout",
     "output_type": "stream",
     "text": [
      "berlin\n"
     ]
    }
   ],
   "source": [
    "# Definition of countries and capital\n",
    "countries = ['spain', 'france', 'germany', 'norway']\n",
    "capitals = ['madrid', 'paris', 'berlin', 'oslo']\n",
    "\n",
    "# Get index of 'germany': ind_ger\n",
    "ind_ger = countries.index('germany')\n",
    "\n",
    "# Use ind_ger to print out capital of Germany\n",
    "print(capitals[ind_ger])"
   ]
  },
  {
   "cell_type": "markdown",
   "metadata": {},
   "source": [
    "## Crear diccionario\n",
    "\n",
    "Las listas *countries* y *capitals* están nuevamente disponibles en el script. Es su trabajo convertir estos datos en un diccionario donde los nombres de los países son las claves y las mayúsculas son los valores correspondientes. Como repaso, aquí hay una receta para crear un diccionario:\n",
    "\n",
    "**my_dict = {  \n",
    "   &nbsp; &nbsp; &nbsp; &nbsp; &nbsp; &nbsp; \"key1\": \"value1\",  \n",
    "   &nbsp; &nbsp; &nbsp; &nbsp; &nbsp; &nbsp; \"key2\": \"value2\",  \n",
    "}**\n",
    "\n",
    "En esta receta, tanto las claves como los valores son cadenas. Este también será el caso para este ejercicio.\n",
    "\n",
    "**Actividad**\n",
    "* Con las cadenas en *countries* y *capitals*, cree un diccionario llamado *europe* con 4 pares clave: valor. ¡Cuidado con las mayúsculas! Asegúrese de usar caracteres en minúscula en todas partes.\n",
    "* Imprima *europe* para ver si el resultado es el que esperaba."
   ]
  },
  {
   "cell_type": "code",
   "execution_count": 2,
   "metadata": {},
   "outputs": [
    {
     "name": "stdout",
     "output_type": "stream",
     "text": [
      "{'spain': 'madrid', 'france': 'paris', 'germany': 'berlin', 'norway': 'oslo'}\n"
     ]
    }
   ],
   "source": [
    "# Definition of countries and capital\n",
    "countries = ['spain', 'france', 'germany', 'norway']\n",
    "capitals = ['madrid', 'paris', 'berlin', 'oslo']\n",
    "\n",
    "# From string in countries and capitals, create dictionary europe\n",
    "europe = { 'spain':'madrid', 'france': 'paris', 'germany':'berlin', 'norway':'oslo' }\n",
    "\n",
    "# Print europe\n",
    "print(europe)"
   ]
  },
  {
   "cell_type": "markdown",
   "metadata": {},
   "source": [
    "## Acceso al diccionario\n",
    "\n",
    "Si las claves de un diccionario se eligen sabiamente, acceder a los valores de un diccionario es fácil e intuitivo. Por ejemplo, para obtener la capital de Francia europe, puede usar:\n",
    "\n",
    "**europe['france']**\n",
    "\n",
    "Aquí *'france'* está la clave y *'paris'* es el valor devuelto.\n",
    "\n",
    "**Actividad**\n",
    "\n",
    "* Compruebe qué claves se encuentran *europe* llamando al método keys() sobre *europe*. Imprima el resultado.\n",
    "* Imprima el valor que pertenece a la clave *'norway'*."
   ]
  },
  {
   "cell_type": "code",
   "execution_count": 3,
   "metadata": {},
   "outputs": [
    {
     "name": "stdout",
     "output_type": "stream",
     "text": [
      "dict_keys(['spain', 'france', 'germany', 'norway'])\n",
      "oslo\n"
     ]
    }
   ],
   "source": [
    "# Definition of dictionary\n",
    "europe = {'spain':'madrid', 'france':'paris', 'germany':'berlin', 'norway':'oslo' }\n",
    "\n",
    "# Print out the keys in europe\n",
    "print(europe.keys())\n",
    "\n",
    "# Print out value that belongs to key 'norway'\n",
    "print(europe['norway'])"
   ]
  },
  {
   "cell_type": "markdown",
   "metadata": {},
   "source": []
  }
 ],
 "metadata": {
  "kernelspec": {
   "display_name": "Python 3",
   "language": "python",
   "name": "python3"
  },
  "language_info": {
   "codemirror_mode": {
    "name": "ipython",
    "version": 3
   },
   "file_extension": ".py",
   "mimetype": "text/x-python",
   "name": "python",
   "nbconvert_exporter": "python",
   "pygments_lexer": "ipython3",
   "version": "3.7.3"
  }
 },
 "nbformat": 4,
 "nbformat_minor": 2
}
