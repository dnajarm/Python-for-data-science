{
 "cells": [
  {
   "cell_type": "markdown",
   "metadata": {},
   "source": [
    "## Diccionario a DataFrame (1)\n",
    "\n",
    "Pandas es una biblioteca de código abierto, que proporciona estructuras de datos y herramientas de análisis de datos de alto rendimiento y fáciles de usar para Python. ¡Suena prometedor!\n",
    "\n",
    "El DataFrame es una de las estructuras de datos más importantes de Pandas. Básicamente es una forma de almacenar datos tabulares donde puede etiquetar las filas y las columnas. Una forma de construir un DataFrame es desde un diccionario.\n",
    "\n",
    "En los ejercicios siguientes, trabajará con datos de vehículos de diferentes países. Cada observación corresponde a un país y las columnas dan información sobre el número de vehículos per cápita, si las personas conducen hacia la izquierda o hacia la derecha, y así sucesivamente.\n",
    "\n",
    "Se definen tres listas en el script:\n",
    "\n",
    "* *names*, que contiene los nombres de países para los que hay datos disponibles.\n",
    "* *dr*, una lista con booleanos que indica si las personas conducen hacia la izquierda o hacia la derecha en el país correspondiente.\n",
    "* *cpc*, el número de vehículos automotores por cada 1000 personas en el país correspondiente.\n",
    "Cada clave del diccionario es una etiqueta de columna y cada valor es una lista que contiene los elementos de la columna.\n",
    "\n",
    "**Actividad**\n",
    "\n",
    "* Importar pandas como pd.\n",
    "* Use las listas predefinidas para crear un diccionario llamado my_dict. Debe haber tres pares de valores clave:\n",
    "* Clave *'country'* y valor *names*.\n",
    "* Clave *'drives_right'* y valor *dr*.\n",
    "* Clave *'cars_per_cap'* y valor *cpc*.\n",
    "* Use **pd.DataFrame()** para convertir su dict en un DataFrame llamado *cars*.\n",
    "* Imprima *cars* y vea lo hermoso que es."
   ]
  },
  {
   "cell_type": "code",
   "execution_count": 1,
   "metadata": {},
   "outputs": [
    {
     "name": "stdout",
     "output_type": "stream",
     "text": [
      "         country  drives_right  cars_per_cap\n",
      "0  United States          True           809\n",
      "1      Australia         False           731\n",
      "2          Japan         False           588\n",
      "3          India         False            18\n",
      "4         Russia          True           200\n",
      "5        Morocco          True            70\n",
      "6          Egypt          True            45\n"
     ]
    }
   ],
   "source": [
    "# Pre-defined lists\n",
    "names = ['United States', 'Australia', 'Japan', 'India', 'Russia', 'Morocco', 'Egypt']\n",
    "dr =  [True, False, False, False, True, True, True]\n",
    "cpc = [809, 731, 588, 18, 200, 70, 45]\n",
    "\n",
    "# Import pandas as pd\n",
    "import pandas as pd\n",
    "\n",
    "# Create dictionary my_dict with three key:value pairs: my_dict\n",
    "my_dict = {'country':names, 'drives_right':dr, 'cars_per_cap':cpc}\n",
    "\n",
    "# Build a DataFrame cars from my_dict: cars\n",
    "cars = pd.DataFrame(my_dict)\n",
    "\n",
    "# Print cars\n",
    "print(cars)"
   ]
  },
  {
   "cell_type": "markdown",
   "metadata": {},
   "source": [
    "## Diccionario a DataFrame (2)\n",
    "\n",
    "El código de Python que resuelve el ejercicio anterior se incluye a la derecha. ¿Ha notado que las etiquetas de fila (es decir, las etiquetas para las diferentes observaciones) se configuraron automáticamente en enteros de 0 a 6?\n",
    "\n",
    "Para resolver esto, se ha creado una lista *row_labels* . Puede usarlo para especificar las etiquetas de fila del DataFrame *cars*. Para ello, establezca el atributo *index* de *cars*, al que puede acceder como *cars.index*.\n",
    "\n",
    "**Actividad**\n",
    "\n",
    "* Ejecute el código para ver que las etiquetas de fila no están configuradas correctamente.\n",
    "* Especifique las etiquetas de fila estableciendo *cars.index* igual a *row_labels*.\n",
    "Imprima nuevamente *cars* y compruebe si las etiquetas de las filas son correctas esta vez."
   ]
  },
  {
   "cell_type": "code",
   "execution_count": 2,
   "metadata": {},
   "outputs": [
    {
     "name": "stdout",
     "output_type": "stream",
     "text": [
      "         country  drives_right  cars_per_cap\n",
      "0  United States          True           809\n",
      "1      Australia         False           731\n",
      "2          Japan         False           588\n",
      "3          India         False            18\n",
      "4         Russia          True           200\n",
      "5        Morocco          True            70\n",
      "6          Egypt          True            45\n",
      "           country  drives_right  cars_per_cap\n",
      "US   United States          True           809\n",
      "AUS      Australia         False           731\n",
      "JPN          Japan         False           588\n",
      "IN           India         False            18\n",
      "RU          Russia          True           200\n",
      "MOR        Morocco          True            70\n",
      "EG           Egypt          True            45\n"
     ]
    }
   ],
   "source": [
    "import pandas as pd\n",
    "\n",
    "# Build cars DataFrame\n",
    "names = ['United States', 'Australia', 'Japan', 'India', 'Russia', 'Morocco', 'Egypt']\n",
    "dr =  [True, False, False, False, True, True, True]\n",
    "cpc = [809, 731, 588, 18, 200, 70, 45]\n",
    "cars_dict = { 'country':names, 'drives_right':dr, 'cars_per_cap':cpc }\n",
    "cars = pd.DataFrame(cars_dict)\n",
    "print(cars)\n",
    "\n",
    "# Definition of row_labels\n",
    "row_labels = ['US', 'AUS', 'JPN', 'IN', 'RU', 'MOR', 'EG']\n",
    "\n",
    "# Specify row labels of cars\n",
    "cars.index = row_labels\n",
    "\n",
    "# Print cars again\n",
    "print(cars)"
   ]
  },
  {
   "cell_type": "markdown",
   "metadata": {},
   "source": [
    "## CSV a DataFrame (1)\n",
    "\n",
    "Poner datos en un diccionario y luego construir un DataFrame funciona, pero no es muy eficiente. ¿Qué pasa si se trata de millones de observaciones? En esos casos, los datos generalmente están disponibles como archivos con una estructura regular. Uno de esos tipos de archivo es el archivo CSV, que es la abreviatura de \"valores separados por comas\".\n",
    "\n",
    "Para importar datos CSV en Python como Pandas DataFrame, puede usar **read_csv()**.\n",
    "\n",
    "Exploremos esta función con los mismos datos de autos de los ejercicios anteriores. Esta vez, sin embargo, los datos están disponibles en un archivo CSV, llamado *cars.csv*. Está disponible en su directorio de trabajo actual, por lo que la ruta al archivo es sencilla *'cars.csv'*.\n",
    "\n",
    "**Actividad**\n",
    "\n",
    "* Para importar archivos CSV, aún necesita el paquete pandas: impórtelo como pd.\n",
    "* Se usa pd.read_csv() para importar datos *cars.csv* como un DataFrame. Almacene este marco de datos como *cars*.\n",
    "* Imprimir *cars*. ¿Todo se ve bien?"
   ]
  },
  {
   "cell_type": "code",
   "execution_count": 4,
   "metadata": {},
   "outputs": [
    {
     "name": "stdout",
     "output_type": "stream",
     "text": [
      "  Unnamed: 0  cars_per_cap        country  drives_right\n",
      "0         US           809  United States          True\n",
      "1        AUS           731      Australia         False\n",
      "2        JPN           588          Japan         False\n",
      "3         IN            18          India         False\n",
      "4         RU           200         Russia          True\n",
      "5        MOR            70        Morocco          True\n",
      "6         EG            45          Egypt          True\n"
     ]
    }
   ],
   "source": [
    "# Import pandas as pd\n",
    "import pandas as pd\n",
    "\n",
    "# Import the cars.csv data: cars\n",
    "cars = pd.read_csv('data/cars.csv', sep =';')\n",
    "\n",
    "# Print out cars\n",
    "print(cars)"
   ]
  },
  {
   "cell_type": "markdown",
   "metadata": {},
   "source": [
    "## CSV a DataFrame (2)\n",
    "\n",
    "Su llamada read_csv() para importar los datos CSV no generó un error, pero el resultado no es del todo lo que queríamos. Las etiquetas de fila se importaron como otra columna sin nombre.\n",
    "\n",
    "¿Recuerda index_colun argumento de read_csv() que puede usar para especificar qué columna del archivo CSV debe usarse como etiqueta de fila? Bueno, eso es exactamente lo que necesitas aquí!\n",
    "\n",
    "El código Python que resuelve el ejercicio anterior ya está incluido; ¿Puedes hacer los cambios apropiados para arreglar la importación de datos?\n",
    "\n",
    "**Actividad**\n",
    "\n",
    "* Ejecute el código con Código de ejecución y afirme que la primera columna debería usarse como etiquetas de fila.\n",
    "* Especifique el index_colargumento dentro **pd.read_csv()**: configúrelo *0* para que la primera columna se use como etiquetas de fila.\n",
    "* ¿Ha carsmejorado la impresión de ahora?"
   ]
  },
  {
   "cell_type": "code",
   "execution_count": 8,
   "metadata": {},
   "outputs": [
    {
     "name": "stdout",
     "output_type": "stream",
     "text": [
      "     cars_per_cap        country  drives_right\n",
      "US            809  United States          True\n",
      "AUS           731      Australia         False\n",
      "JPN           588          Japan         False\n",
      "IN             18          India         False\n",
      "RU            200         Russia          True\n",
      "MOR            70        Morocco          True\n",
      "EG             45          Egypt          True\n"
     ]
    }
   ],
   "source": [
    "# Import pandas as pd\n",
    "import pandas as pd\n",
    "\n",
    "# Fix import by including index_col\n",
    "cars = pd.read_csv('data/cars.csv', sep =';', index_col=0)\n",
    "\n",
    "# Print out cars\n",
    "print(cars)"
   ]
  },
  {
   "cell_type": "code",
   "execution_count": null,
   "metadata": {},
   "outputs": [],
   "source": []
  }
 ],
 "metadata": {
  "kernelspec": {
   "display_name": "Python 3",
   "language": "python",
   "name": "python3"
  },
  "language_info": {
   "codemirror_mode": {
    "name": "ipython",
    "version": 3
   },
   "file_extension": ".py",
   "mimetype": "text/x-python",
   "name": "python",
   "nbconvert_exporter": "python",
   "pygments_lexer": "ipython3",
   "version": "3.7.3"
  }
 },
 "nbformat": 4,
 "nbformat_minor": 2
}
