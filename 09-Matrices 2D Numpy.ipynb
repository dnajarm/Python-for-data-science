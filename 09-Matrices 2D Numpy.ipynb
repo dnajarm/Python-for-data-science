{
 "cells": [
  {
   "cell_type": "markdown",
   "metadata": {},
   "source": [
    "## Tu primera matriz 2D NumPy\n",
    "\n",
    "Antes de trabajar en los datos reales de MLB, intentemos crear una matriz 2D *numpy* a partir de una pequeña lista de listas.\n",
    "\n",
    "En este ejercicio, baseball hay una lista de listas. La lista principal contiene 4 elementos. Cada uno de estos elementos es una lista que contiene la altura y el peso de 4 jugadores de béisbol, en este orden. baseball ya está codificado para usted en el guión.\n",
    "\n",
    "**Actividad**\n",
    "* Use *np.array()* para crear una matriz 2D *numpy* a partir de baseball. Nómbralo *np_baseball*.\n",
    "* Imprime el tipo de *np_baseball*.\n",
    "* Imprime el *shape* atributo de *np_baseball*. Uso *np_baseball.shape*."
   ]
  },
  {
   "cell_type": "code",
   "execution_count": 1,
   "metadata": {},
   "outputs": [
    {
     "name": "stdout",
     "output_type": "stream",
     "text": [
      "<class 'numpy.ndarray'>\n",
      "(4, 2)\n"
     ]
    }
   ],
   "source": [
    "# Create baseball, a list of lists\n",
    "baseball = [[180, 78.4],\n",
    "            [215, 102.7],\n",
    "            [210, 98.5],\n",
    "            [188, 75.2]]\n",
    "\n",
    "# Import numpy\n",
    "import numpy as np\n",
    "\n",
    "# Create a 2D numpy array from baseball: np_baseball\n",
    "np_baseball = np.array(baseball)\n",
    "\n",
    "# Print out the type of np_baseball\n",
    "print(type(np_baseball))\n",
    "\n",
    "# Print out the shape of np_baseball\n",
    "print(np_baseball.shape)"
   ]
  },
  {
   "cell_type": "markdown",
   "metadata": {},
   "source": [
    "## Datos de béisbol en forma 2D\n",
    "\n",
    "Tiene otra mirada a los datos de MLB y se da cuenta de que tiene más sentido reestructurar toda esta información en una matriz 2D *numpy*. Este conjunto debe tener 1015 filas, correspondientes a los 1015 jugadores de béisbol sobre los que tiene información, y 2 columnas (para altura y peso).\n",
    "\n",
    "La MLB fue, nuevamente, muy útil y le pasó los datos en una estructura diferente, una lista de listas de Python. En esta lista de listas, cada sublista representa la altura y el peso de un solo jugador de béisbol. El nombre de esta lista incrustada es baseball.\n",
    "\n",
    "¿Puede almacenar los datos como una matriz 2D para desbloquear *numpy* la funcionalidad adicional?\n",
    "\n",
    "**Actividad*\n",
    "\n",
    "* Use **np.array()** para crear una matriz 2D *numpy* a partir de *baseball*. Nómbralo *np_baseball*.\n",
    "* Imprime el *shape* atributo de *np_baseball*."
   ]
  },
  {
   "cell_type": "code",
   "execution_count": 29,
   "metadata": {},
   "outputs": [
    {
     "name": "stdout",
     "output_type": "stream",
     "text": [
      "(1034, 2)\n"
     ]
    }
   ],
   "source": [
    "# baseball is available as a regular list of lists\n",
    "import pandas as pd\n",
    "df = pd.read_csv(\"data/mlb_weight_ht.csv\")\n",
    "baseball = df[['Height(inches)', 'Weight(pounds)']].values.tolist()\n",
    "\n",
    "# Import numpy package\n",
    "import numpy as np\n",
    "\n",
    "# Create a 2D numpy array from baseball: np_baseball\n",
    "np_baseball = np.array(baseball)\n",
    "\n",
    "# Print out the shape of np_baseball\n",
    "print(np_baseball.shape)"
   ]
  },
  {
   "cell_type": "markdown",
   "metadata": {},
   "source": [
    "## Subconjunto de matrices 2D NumPy\n",
    "\n",
    "Si su matriz 2D *numpy* tiene una estructura regular, es decir, cada fila y columna tiene un número fijo de valores, las formas complicadas de subconjunto se vuelven muy fáciles. Eche un vistazo al siguiente código donde se extraen los elementos **\"a\"** y **\"c\"** de una lista de listas.\n",
    "\n",
    "### regular list of lists\n",
    "x = [[\"a\", \"b\"], [\"c\", \"d\"]]  \n",
    "[x[0][0], x[1][0]]\n",
    "\n",
    "### numpy\n",
    "import numpy as np  \n",
    "np_x = np.array(x)  \n",
    "np_x[:,0]\n",
    "\n",
    "Para las listas regulares de Python, esto es un verdadero dolor. Sin embargo, para matrices 2D *numpy*, ¡es bastante intuitivo! Los índices antes de la coma se refieren a las filas, mientras que los que siguen a la coma se refieren a las columnas. El :es para rebanar; en este ejemplo, le dice a Python que incluya todas las filas.\n",
    "\n",
    "El código que convierte la lista *baseball* precargada en una matriz 2D *numpy* ya está en el script. La primera columna contiene la altura de los jugadores en pulgadas y la segunda columna contiene el peso del jugador, en libras. Agregue algunas líneas para hacer las selecciones correctas. ¡Recuerde que en Python, el primer elemento está en el índice 0!\n",
    "\n",
    "**Actividad**\n",
    "\n",
    "* Imprima la fila 50 de *np_baseball*.\n",
    "* Cree una nueva variable, que *np_weight_lb* contenga toda la segunda columna de *np_baseball*.\n",
    "* Seleccione la altura (primera columna) del 124º jugador de béisbol *np_baseball* e imprímalo.\n"
   ]
  },
  {
   "cell_type": "code",
   "execution_count": 27,
   "metadata": {},
   "outputs": [
    {
     "name": "stdout",
     "output_type": "stream",
     "text": [
      "[ 74. 210.]\n",
      "76.0\n"
     ]
    }
   ],
   "source": [
    "# baseball is available as a regular list of lists\n",
    "import pandas as pd\n",
    "df = pd.read_csv(\"data/mlb_weight_ht.csv\")\n",
    "baseball = df[['Height(inches)', 'Weight(pounds)']].values.tolist()\n",
    "\n",
    "# Import numpy package\n",
    "import numpy as np\n",
    "\n",
    "# Create np_baseball (2 cols)\n",
    "np_baseball = np.array(baseball)\n",
    "\n",
    "# Print out the 50th row of np_baseball\n",
    "print(np_baseball[49])\n",
    "\n",
    "# Select the entire second column of np_baseball: np_weight_lb\n",
    "np_weight_lb = np_baseball[:,1]\n",
    "\n",
    "# Print out height of 124th player\n",
    "print(np_baseball[123,0])"
   ]
  },
  {
   "cell_type": "markdown",
   "metadata": {},
   "source": [
    "## Aritmética 2D\n",
    "\n",
    "¿Recuerdas cómo calculaste el índice de masa corporal para todos los jugadores de béisbol? *numpy* fue capaz de realizar todos los cálculos por elementos (es decir, elemento por elemento). ¡Para matrices 2D *numpy* esto no es diferente! Puede combinar matrices con números individuales, con vectores y con otras matrices.\n",
    "\n",
    "Ejecute el código a continuación en el shell de IPython y vea si comprende:\n",
    "\n",
    "**import numpy as np  \n",
    "np_mat = np.array([[1, 2],  \n",
    "                   [3, 4],  \n",
    "                   [5, 6]])  \n",
    "np_mat * 2  \n",
    "np_mat + np.array([10, 10])  \n",
    "np_mat + np_mat**  \n",
    "\n",
    "*np_baseball* está codificado para ti; nuevamente es una matriz 2D *numpy* con 3 columnas que representan la altura (en pulgadas), el peso (en libras) y la edad (en años).\n",
    "\n",
    "**Actividad**\n",
    "\n",
    "* sume 2 veces *np_baseballe* imprima el resultado.\n",
    "* Desea convertir las unidades de altura y peso a métricas (metros y kilogramos respectivamente). Como primer paso, crear una matriz *numpy* con tres valores: *0.0254, 0.453592 y 1*. Nombra esta matriz *conversion*.\n",
    "* Multiplicar *np_baseball* con *conversion* e imprimir el resultado.\n"
   ]
  },
  {
   "cell_type": "code",
   "execution_count": 33,
   "metadata": {},
   "outputs": [
    {
     "name": "stdout",
     "output_type": "stream",
     "text": [
      "[[148.   360.    45.98]\n",
      " [148.   430.    69.38]\n",
      " [144.   420.    61.56]\n",
      " ...\n",
      " [150.   410.    50.38]\n",
      " [150.   380.    62.02]\n",
      " [146.   390.    55.84]]\n",
      "[[ 1.8796  81.64656 22.99   ]\n",
      " [ 1.8796  97.52228 34.69   ]\n",
      " [ 1.8288  95.25432 30.78   ]\n",
      " ...\n",
      " [ 1.905   92.98636 25.19   ]\n",
      " [ 1.905   86.18248 31.01   ]\n",
      " [ 1.8542  88.45044 27.92   ]]\n"
     ]
    }
   ],
   "source": [
    "# baseball is available as a regular list of lists\n",
    "# updated is available as 2D numpy array\n",
    "import pandas as pd\n",
    "df = pd.read_csv(\"data/mlb_weight_ht.csv\")\n",
    "baseball = df[['Height(inches)', 'Weight(pounds)', 'Age']].values.tolist()\n",
    "\n",
    "# Import numpy package\n",
    "import numpy as np\n",
    "\n",
    "# Create np_baseball (3 cols)\n",
    "np_baseball = np.array(baseball)\n",
    "\n",
    "# Print out addition of np_baseball and updated\n",
    "print(np_baseball+baseball)\n",
    "\n",
    "# Create numpy array: conversion\n",
    "conversion = np.array([0.0254, 0.453592, 1])\n",
    "\n",
    "# Print out product of np_baseball and conversion\n",
    "print(np_baseball*conversion)"
   ]
  },
  {
   "cell_type": "code",
   "execution_count": null,
   "metadata": {},
   "outputs": [],
   "source": []
  }
 ],
 "metadata": {
  "kernelspec": {
   "display_name": "Python 3",
   "language": "python",
   "name": "python3"
  },
  "language_info": {
   "codemirror_mode": {
    "name": "ipython",
    "version": 3
   },
   "file_extension": ".py",
   "mimetype": "text/x-python",
   "name": "python",
   "nbconvert_exporter": "python",
   "pygments_lexer": "ipython3",
   "version": "3.7.3"
  }
 },
 "nbformat": 4,
 "nbformat_minor": 2
}
