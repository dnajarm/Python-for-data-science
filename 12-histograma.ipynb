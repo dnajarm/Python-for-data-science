{
 "cells": [
  {
   "cell_type": "code",
   "execution_count": 52,
   "metadata": {},
   "outputs": [],
   "source": [
    "import pandas as pd\n",
    "\n",
    "df = pd.read_csv(\"data/world_bank_data.csv\", sep =';', skiprows=1, \n",
    "                 names=[\"Country_Name\",\n",
    "                        \"Country_Code\",\n",
    "                        \"Continent_Name\",\n",
    "                        \"Continent_Code\",\n",
    "                        \"Population_1960\",\n",
    "                        \"Population_2018\",\n",
    "                        \"GDP_per_capita_1960\",\n",
    "                        \"GDP_per_capita_2018\",\n",
    "                        \"Life_expectancy_at_birth_1960\",\n",
    "                        \"Life_expectancy_at_birth_2018\"\n",
    "])\n",
    "\n",
    "gdp_cap = list(df[\"GDP_per_capita_2018\"][(df[\"Population_2018\"]>0) & (df[\"GDP_per_capita_2018\"]>0) & (df[\"Life_expectancy_at_birth_2018\"]>0)])\n",
    "life_exp = list(df[\"Life_expectancy_at_birth_2018\"][(df[\"Population_2018\"]>0) & (df[\"GDP_per_capita_2018\"]>0) & (df[\"Life_expectancy_at_birth_2018\"]>0)])\n",
    "life_exp_1960 = list(df[\"Life_expectancy_at_birth_1960\"][(df[\"Life_expectancy_at_birth_1960\"]>0) & (df[\"Life_expectancy_at_birth_2018\"]>0)])\n",
    "pop = list(df[\"Population_2018\"][(df[\"Population_2018\"]>0) & (df[\"GDP_per_capita_2018\"]>0) & (df[\"Life_expectancy_at_birth_2018\"]>0)]/1000000)\n",
    "Continent_Name = list(df[\"Continent_Name\"][(df[\"Population_2018\"]>0) & (df[\"GDP_per_capita_2018\"]>0) & (df[\"Life_expectancy_at_birth_2018\"]>0)])\n"
   ]
  },
  {
   "cell_type": "markdown",
   "metadata": {},
   "source": [
    "## Construir un histograma (1)\n",
    "\n",
    "*life_exp*, la lista que contiene datos sobre la esperanza de vida de diferentes países en 2016, está disponible en su libro de jupyter.\n",
    "\n",
    "Para ver cómo se distribuye la esperanza de vida en diferentes países, creemos un histograma de life_exp.\n",
    "\n",
    "*matplotlib.pyplot* ya está disponible como *plt*.\n",
    "\n",
    "**Actividad**\n",
    "\n",
    "* Use **plt.hist()** para crear un histograma de los valores en *life_exp*. No especifique el número de clases; Python establecerá el número de clases en 10 de forma predeterminada para usted.\n",
    "* Agregar **plt.show()** para mostrar realmente el histograma. ¿Puedes decir qué clase contiene más observaciones?"
   ]
  },
  {
   "cell_type": "code",
   "execution_count": 53,
   "metadata": {},
   "outputs": [
    {
     "data": {
      "image/png": "[encoded data removed]",
      "text/plain": [
       "<Figure size 432x288 with 1 Axes>"
      ]
     },
     "metadata": {
      "needs_background": "light"
     },
     "output_type": "display_data"
    }
   ],
   "source": [
    "# Import matplotlib.pyplot as plt\n",
    "import matplotlib.pyplot as plt\n",
    "\n",
    "# Create histogram of life_exp data\n",
    "plt.hist(life_exp)\n",
    "\n",
    "# Display histogram\n",
    "plt.show()"
   ]
  },
  {
   "cell_type": "markdown",
   "metadata": {},
   "source": [
    "## Construir un histograma (2): clases\n",
    "    \n",
    "En el ejercicio anterior, no especificó el número de clases. Por defecto, Python establece el número de bins en 10 en ese caso. El número de clases es bastante importante. Muy pocas clases simplificarán demasiado la realidad y no le mostrarán los detalles. Demasiadas clases complicarán demasiado la realidad y no mostrarán una imagen más grande.\n",
    "\n",
    "Para controlar el número de clases en los que dividir sus datos, puede establecer el argumento *bins*.\n",
    "\n",
    "Eso es exactamente lo que harás en este ejercicio. Harás dos tramas aquí. El código en el script ya incluye **plt.show()** y llama **plt.clf()**; **plt.show()** muestra una trama; **plt.clf()** lo limpia nuevamente para que pueda comenzar de nuevo.\n",
    "\n",
    "Como antes, *life_exp* está disponible y *matplotlib.pyplot* se importa como *plt*.\n",
    "\n",
    "**Actividad**\n",
    "\n",
    "* Construye un histograma de *life_exp*, con 5 clases. ¿Puedes decir qué clase contiene más observaciones?\n",
    "* Construye otro histograma de *life_exp*, esta vez con 30 clases. ¿Es esto mejor?"
   ]
  },
  {
   "cell_type": "code",
   "execution_count": 54,
   "metadata": {},
   "outputs": [
    {
     "data": {
      "image/png": "[encoded data removed]",
      "text/plain": [
       "<Figure size 432x288 with 1 Axes>"
      ]
     },
     "metadata": {
      "needs_background": "light"
     },
     "output_type": "display_data"
    },
    {
     "data": {
      "image/png": "[encoded data removed]",
      "text/plain": [
       "<Figure size 432x288 with 1 Axes>"
      ]
     },
     "metadata": {
      "needs_background": "light"
     },
     "output_type": "display_data"
    },
    {
     "data": {
      "text/plain": [
       "<Figure size 432x288 with 0 Axes>"
      ]
     },
     "metadata": {},
     "output_type": "display_data"
    }
   ],
   "source": [
    "# Build histogram with 5 bins\n",
    "plt.hist(life_exp, bins = 5)\n",
    "\n",
    "# Show and clean up plot\n",
    "plt.show()\n",
    "plt.clf()\n",
    "\n",
    "# Build histogram with 30 bins\n",
    "plt.hist(life_exp, bins = 30)\n",
    "\n",
    "# Show and clean up again\n",
    "plt.show()\n",
    "plt.clf()"
   ]
  },
  {
   "cell_type": "markdown",
   "metadata": {},
   "source": [
    "## Construir un histograma (3): comparar\n",
    "\n",
    "Hagamos una comparación similar. life_exp contiene datos de esperanza de vida para diferentes países en 2016. También tiene acceso a una segunda lista ahora life_exp_2000, que contiene datos similares para 2000. ¿Puede hacer un histograma para ambos conjuntos de datos?\n",
    "\n",
    "Volverás a hacer dos tramas. Los comandos plt.show() y plt.clf() para representar todo bien ya están incluidos. También matplotlib.pyplot se importa para ti, como plt."
   ]
  },
  {
   "cell_type": "code",
   "execution_count": 55,
   "metadata": {},
   "outputs": [
    {
     "data": {
      "image/png": "[encoded data removed]",
      "text/plain": [
       "<Figure size 432x288 with 1 Axes>"
      ]
     },
     "metadata": {
      "needs_background": "light"
     },
     "output_type": "display_data"
    },
    {
     "data": {
      "image/png": "[encoded data removed]",
      "text/plain": [
       "<Figure size 432x288 with 1 Axes>"
      ]
     },
     "metadata": {
      "needs_background": "light"
     },
     "output_type": "display_data"
    },
    {
     "data": {
      "text/plain": [
       "<Figure size 432x288 with 0 Axes>"
      ]
     },
     "metadata": {},
     "output_type": "display_data"
    }
   ],
   "source": [
    "# Histogram of life_exp, 15 bins\n",
    "plt.hist(life_exp, bins = 15)\n",
    "\n",
    "# Show and clear plot\n",
    "plt.show()\n",
    "plt.clf()\n",
    "\n",
    "# Histogram of life_exp1950, 15 bins\n",
    "plt.hist(life_exp_1960, bins = 15,color = 'red')\n",
    "\n",
    "# Show and clear plot again\n",
    "plt.show()\n",
    "plt.clf()"
   ]
  },
  {
   "cell_type": "code",
   "execution_count": null,
   "metadata": {},
   "outputs": [],
   "source": []
  }
 ],
 "metadata": {
  "kernelspec": {
   "display_name": "Python 3",
   "language": "python",
   "name": "python3"
  },
  "language_info": {
   "codemirror_mode": {
    "name": "ipython",
    "version": 3
   },
   "file_extension": ".py",
   "mimetype": "text/x-python",
   "name": "python",
   "nbconvert_exporter": "python",
   "pygments_lexer": "ipython3",
   "version": "3.7.3"
  }
 },
 "nbformat": 4,
 "nbformat_minor": 2
}
