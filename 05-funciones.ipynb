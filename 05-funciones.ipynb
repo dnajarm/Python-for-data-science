{
 "cells": [
  {
   "cell_type": "markdown",
   "metadata": {},
   "source": [
    "## Funciones familiares\n",
    "\n",
    "Fuera de la caja, Python ofrece un montón de funciones integradas para facilitarle la vida como científico de datos. Ya conoce dos de estas funciones: print() y type(). También ha utilizado las funciones str(), int(), bool() y float()para cambiar entre los tipos de datos. Estas son funciones integradas también.\n",
    "\n",
    "Llamar a una función es fácil. Para obtener el tipo 3.0 y almacenar el resultado como una nueva variable, result puede usar lo siguiente:\n",
    "\n",
    "**result = type(3.0)**  \n",
    "La receta general para llamar a funciones y guardar el resultado en una variable es así:\n",
    "\n",
    "**output = function_name(input)**\n",
    "\n",
    "**Actividad**\n",
    "* Use **print()** en combinación con **type()** para imprimir el tipo de var1.\n",
    "* Use **len()** para obtener la longitud de la lista *var1*. Envuélvalo en una llamada **print()** para imprimirlo directamente.\n",
    "* Use **int()** para convertir *var2* a un entero. Almacene la salida como *out2*."
   ]
  },
  {
   "cell_type": "code",
   "execution_count": 2,
   "metadata": {},
   "outputs": [
    {
     "name": "stdout",
     "output_type": "stream",
     "text": [
      "<class 'list'>\n",
      "4\n"
     ]
    }
   ],
   "source": [
    "# Create variables var1 and var2\n",
    "var1 = [1, 2, 3, 4]\n",
    "var2 = True\n",
    "\n",
    "# Print out type of var1\n",
    "print(type(var1))\n",
    "\n",
    "# Print out length of var1\n",
    "print(len(var1))\n",
    "\n",
    "# Convert var2 to an integer: out2\n",
    "out2 = int(var2)"
   ]
  },
  {
   "cell_type": "markdown",
   "metadata": {},
   "source": [
    "## ¡Ayuda!\n",
    "\n",
    "Tal vez ya conozca el nombre de una función de Python, pero aún tiene que descubrir cómo usarla. Irónicamente, hay que pedir información sobre una función con otra función: help(). En IPython específicamente, también puede usar ?antes del nombre de la función.\n",
    "\n",
    "Para obtener ayuda sobre la max()función, por ejemplo, puede usar una de estas llamadas:\n",
    "\n",
    "help(max)  \n",
    "?max  \n",
    "Use el Shell a la derecha para abrir la documentación complex(). ¿Cuál de las siguientes afirmaciones es verdadera?\n",
    "\n",
    "**Respuestas posibles**\n",
    "* complex()toma exactamente dos argumentos: realy [, imag].\n",
    "* complex()toma dos argumentos: realy imag. Ambos argumentos son obligatorios.\n",
    "* complex()toma dos argumentos: realy imag. reales un argumento requerido, images un argumento opcional.\n",
    "* complex()toma dos argumentos: realy imag. Si no especifica imag, Python lo establece en 1."
   ]
  },
  {
   "cell_type": "markdown",
   "metadata": {},
   "source": [
    "## Argumentos múltiples\n",
    "En el ejercicio anterior, los corchetes imagen la documentación nos mostraron que el imagargumento es opcional. Pero Python también usa una forma diferente de decirle a los usuarios que los argumentos son opcionales.\n",
    "\n",
    "Eche un vistazo a la documentación de sorted()escribiendo help(sorted)el Shell de IPython.\n",
    "\n",
    "Verá que sorted()toma tres argumentos: iterable, keyy reverse.\n",
    "\n",
    "key=Nonesignifica que si no especificas el keyargumento, lo será None. reverse=Falsesignifica que si no especificas el reverseargumento, lo será False.\n",
    "\n",
    "En este ejercicio, solo tendrá que especificar iterabley reverse, no key. La primera entrada que pases sorted()coincidirá con el iterableargumento, pero ¿qué pasa con la segunda entrada? Para decirle a Python que desea especificar reversesin cambiar nada key, puede usar =:\n",
    "\n",
    "sorted(___, reverse = ___)\n",
    "Se han creado dos listas para usted a la derecha. ¿Puedes pegarlos y ordenarlos en orden descendente?\n",
    "\n",
    "Nota: Por ahora, podemos entender que un iterable es cualquier colección de objetos, por ejemplo, una Lista.\n",
    "\n",
    "**Actividad**\n",
    "\n",
    "* Utilizar **+** para combinar los contenidos de *first* y second en una nueva lista: *full*.\n",
    "* Llamar **sorted()** en *full* y especifique el argumento *reverse* sea *True*. Guarde la lista ordenada como *full_sorted*.\n",
    "* Termine imprimiendo *full_sorted*.\n"
   ]
  },
  {
   "cell_type": "code",
   "execution_count": 3,
   "metadata": {},
   "outputs": [
    {
     "name": "stdout",
     "output_type": "stream",
     "text": [
      "[20.0, 18.0, 11.25, 10.75, 9.5]\n"
     ]
    }
   ],
   "source": [
    "# Create lists first and second\n",
    "first = [11.25, 18.0, 20.0]\n",
    "second = [10.75, 9.50]\n",
    "\n",
    "# Paste together first and second: full\n",
    "full = first + second\n",
    "\n",
    "# Sort full in descending order: full_sorted\n",
    "full_sorted = sorted(full,reverse=True)\n",
    "\n",
    "# Print out full_sorted\n",
    "print(full_sorted)"
   ]
  },
  {
   "cell_type": "code",
   "execution_count": null,
   "metadata": {},
   "outputs": [],
   "source": []
  }
 ],
 "metadata": {
  "kernelspec": {
   "display_name": "Python 3",
   "language": "python",
   "name": "python3"
  },
  "language_info": {
   "codemirror_mode": {
    "name": "ipython",
    "version": 3
   },
   "file_extension": ".py",
   "mimetype": "text/x-python",
   "name": "python",
   "nbconvert_exporter": "python",
   "pygments_lexer": "ipython3",
   "version": "3.6.10"
  }
 },
 "nbformat": 4,
 "nbformat_minor": 2
}
