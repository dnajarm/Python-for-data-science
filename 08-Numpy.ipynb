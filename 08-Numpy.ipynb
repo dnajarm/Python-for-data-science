{
 "cells": [
  {
   "cell_type": "markdown",
   "metadata": {},
   "source": [
    "## Tu primera matriz Numpy\n",
    "\n",
    "En este capítulo, vamos a sumergirnos en el mundo del béisbol. En el camino, te sentirás cómodo con los conceptos básicos de *numpy* un poderoso paquete para hacer ciencia de datos.\n",
    "\n",
    "*baseball* Ya se ha definido una lista en el script de Python, que representa la altura de algunos jugadores de béisbol en centímetros. ¿Puedes agregar algún código aquí y allá para crear una matriz *numpy* a partir de él?\n",
    "\n",
    "**Actividad**\n",
    "\n",
    "* Importe el paquete numpy como np, para que pueda consultar *numpy* con *np*.\n",
    "* Use **np.array()** para crear una matriz *numpy* desde baseball. Nombra esta matriz *np_baseball*.\n",
    "* Imprima el tipo de *np_baseball* para verificar que lo hizo bien."
   ]
  },
  {
   "cell_type": "code",
   "execution_count": 1,
   "metadata": {},
   "outputs": [
    {
     "name": "stdout",
     "output_type": "stream",
     "text": [
      "<class 'numpy.ndarray'>\n"
     ]
    }
   ],
   "source": [
    "# Create list baseball\n",
    "baseball = [180, 215, 210, 210, 188, 176, 209, 200]\n",
    "\n",
    "# Import the numpy package as np\n",
    "import numpy as np\n",
    "\n",
    "# Create a numpy array from baseball: np_baseball\n",
    "np_baseball = np.array(baseball)\n",
    "\n",
    "# Print out type of np_baseball\n",
    "print(type(np_baseball))"
   ]
  },
  {
   "cell_type": "markdown",
   "metadata": {},
   "source": [
    "## Altura de los jugadores de beisbol\n",
    "\n",
    "Eres un gran fanático del béisbol. Decides llamar a la MLB (Major League Baseball) y pedir más estadísticas sobre la altura de los jugadores principales. Pasan a lo largo de datos de más de un millar de jugadores, que se almacena como una lista regular de Python: *height_in*. La altura se expresa en pulgadas. ¿Puedes hacer una numpymatriz y convertir las unidades a metros?\n",
    "\n",
    "*height_in* ya está disponible y el paquete *numpy* está cargado, por lo que puede comenzar de inmediato (Fuente: stat.ucla.edu ).\n",
    "\n",
    "**Actividad**\n",
    "\n",
    "* Crea una matriz *numpy* a partir de *height_in*. Nombra esta nueva matriz *np_height_in*.\n",
    "* Imprimir *np_height_in*.\n",
    "* Multiplique *np_height_in* con *0.0254* para convertir todas las medidas de altura de pulgadas a metros. Almacenar los nuevos valores en una nueva matriz, *np_height_m*.\n",
    "* Imprima *np_height_my* compruebe si la salida tiene sentido."
   ]
  },
  {
   "cell_type": "code",
   "execution_count": 26,
   "metadata": {},
   "outputs": [
    {
     "name": "stdout",
     "output_type": "stream",
     "text": [
      "[74 74 72 ... 75 75 73]\n",
      "[1.8796 1.8796 1.8288 ... 1.905  1.905  1.8542]\n"
     ]
    }
   ],
   "source": [
    "# height is available as a regular list\n",
    "import pandas as pd\n",
    "df = pd.read_csv(\"data/mlb_weight_ht.csv\")\n",
    "height_in =df['Height(inches)']\n",
    "\n",
    "# Import numpy\n",
    "import numpy as np\n",
    "\n",
    "# Create a numpy array from height_in: np_height_in\n",
    "np_height_in = np.array(height_in)\n",
    "\n",
    "# Print out np_height_in\n",
    "print(np_height_in)\n",
    "\n",
    "# Convert np_height_in to m: np_height_m\n",
    "np_height_m = np_height_in*0.0254\n",
    "\n",
    "# Print np_height_m\n",
    "print(np_height_m)"
   ]
  },
  {
   "cell_type": "markdown",
   "metadata": {},
   "source": [
    "## IMC del jugador de béisbol\n",
    "\n",
    "La MLB también ofrece permitirle analizar sus datos de peso. Nuevamente, ambos están disponibles como listas regulares de Python: height_iny weight_lb. *height_in* está en pulgadas y *weight_lb* está en libras.\n",
    "\n",
    "Ahora es posible calcular el IMC de cada jugador de béisbol. El código de Python para convertir *height_in* a una matriz *numpy* con las unidades correctas ya está disponible en el espacio de trabajo. ¡Sigue las instrucciones paso a paso y termina el juego!\n",
    "\n",
    "* Cree una matriz *numpy* de la lista *weight_lb* con las unidades correctas. Multiplique por *0.453592* para pasar de libras a kilogramos. Almacene la matriz *numpy* resultante como *np_weight_kg*.\n",
    "\n",
    "* Use *np_height_m* y *np_weight_kg* para calcular el IMC de cada jugador. Use la siguiente ecuación:\n",
    "\n",
    "$$\\text{IMC}=\\frac{Peso (Kg)}{Altura (m^2)}$$\n",
    "\n",
    "\n",
    "* Guarde la matriz *numpy* resultante como *bmi*.\n",
    "\n",
    "* Imprimir *bmi*."
   ]
  },
  {
   "cell_type": "code",
   "execution_count": 30,
   "metadata": {},
   "outputs": [
    {
     "name": "stdout",
     "output_type": "stream",
     "text": [
      "[23.11037639 27.60406069 28.48080465 ... 25.62295933 23.74810865\n",
      " 25.72686361]\n"
     ]
    }
   ],
   "source": [
    "# height and weight are available as regular lists\n",
    "import pandas as pd\n",
    "df = pd.read_csv(\"data/mlb_weight_ht.csv\")\n",
    "height_in = df['Height(inches)']\n",
    "weight_lb = df['Weight(pounds)']\n",
    "\n",
    "# Import numpy\n",
    "import numpy as np\n",
    "\n",
    "# Create array from height_in with metric units: np_height_m\n",
    "np_height_m = np.array(height_in) * 0.0254\n",
    "\n",
    "# Create array from weight_lb with metric units: np_weight_kg\n",
    "np_weight_kg = np.array(weight_lb) * 0.453592\n",
    "\n",
    "# Calculate the BMI: bmi\n",
    "bmi = np_weight_kg/(np_height_m**2)\n",
    "\n",
    "# Print out bmi\n",
    "print(bmi)"
   ]
  },
  {
   "cell_type": "markdown",
   "metadata": {},
   "source": [
    "## Jugadores de béisbol ligeros\n",
    "\n",
    "Para subconjuntar tanto las listas como las matrices *numpy* de Python normales , puede usar corchetes:\n",
    "\n",
    "**x = [4 , 9 , 6, 3, 1]  \n",
    "x[1]  \n",
    "import numpy as np  \n",
    "y = np.array(x)  \n",
    "y[1]**\n",
    "\n",
    "Para concreto *numpy*, también se puede usar booleanas matrices *numpy*:\n",
    "\n",
    "**high = y > 5\n",
    "y[high]**\n",
    "\n",
    "El código que calcula el IMC de todos los jugadores de béisbol ya está incluido. ¡Sigue las instrucciones y revela cosas interesantes de los datos!\n",
    "\n",
    "**Actividad**\n",
    "\n",
    "* Cree una matriz *numpy* booleana : el elemento de la matriz debería ser *True* si el IMC del jugador de béisbol correspondiente está por debajo de 21. Puede usar el operador **<** para esto. Nombra la matriz *light*.\n",
    "* Imprime la matriz *light*.\n",
    "* Imprima una matriz *numpy* con los IMC de todos los jugadores de béisbol cuyo IMC es inferior a 21. Use corchetes dentro de *light* para hacer una selección en la matriz *bmi*."
   ]
  },
  {
   "cell_type": "code",
   "execution_count": 40,
   "metadata": {},
   "outputs": [
    {
     "name": "stdout",
     "output_type": "stream",
     "text": [
      "[False False False ... False False False]\n",
      "[20.54255679 20.54255679 20.69282047 20.69282047 20.34343189 20.34343189\n",
      " 20.69282047 20.15883472 19.4984471  20.69282047 20.9205219 ]\n"
     ]
    },
    {
     "name": "stderr",
     "output_type": "stream",
     "text": [
      "C:\\Users\\dnajar\\AppData\\Local\\Continuum\\anaconda3\\lib\\site-packages\\ipykernel_launcher.py:16: RuntimeWarning: invalid value encountered in less\n",
      "  app.launch_new_instance()\n"
     ]
    }
   ],
   "source": [
    "# height and weight are available as a regular lists\n",
    "import pandas as pd\n",
    "df = pd.read_csv(\"data/mlb_weight_ht.csv\")\n",
    "height_in = list(df['Height(inches)'])\n",
    "weight_lb = list(df['Weight(pounds)'])\n",
    "\n",
    "# Import numpy\n",
    "import numpy as np\n",
    "\n",
    "# Calculate the BMI: bmi\n",
    "np_height_m = np.array(height_in) * 0.0254\n",
    "np_weight_kg = np.array(weight_lb) * 0.453592\n",
    "bmi = np_weight_kg / np_height_m ** 2\n",
    "\n",
    "# Create the light array\n",
    "light = bmi < 21\n",
    "\n",
    "# Print out light\n",
    "print(light)\n",
    "\n",
    "# Print out BMIs of all baseball players whose BMI is below 21\n",
    "print(bmi[light])"
   ]
  },
  {
   "cell_type": "markdown",
   "metadata": {},
   "source": [
    "## Efectos secundarios de NumPy\n",
    "\n",
    "\n",
    "En primer lugar, las matrices numpy no pueden contener elementos con diferentes tipos. Si intenta crear una lista de este tipo, algunos de los tipos de elementos se cambian para terminar con una lista homogénea. Esto se conoce como coerción de tipo.\n",
    "\n",
    "En segundo lugar, los operadores aritméticos típicos, tales como **+, -, * y /** tienen un significado diferente para las listas y  de Python matrices numpy regulares.\n",
    "\n",
    "Echa un vistazo a esta línea de código:\n",
    "\n",
    "**np.array([True, 1, 2]) + np.array([3, 4, False])**\n",
    "\n",
    "¿Puedes decir qué fragmento de código construye exactamente el mismo objeto Python? El paquete numpy ya está importado como np, por lo que puede comenzar a experimentar en el Shell de IPython de inmediato.\n",
    "\n",
    "Respuestas posibles\n",
    "* np.array([True, 1, 2, 3, 4, False])\n",
    "* np.array([4, 3, 0]) + np.array([0, 2, 2])\n",
    "* np.array([1, 1, 2]) + np.array([3, 4, -1])\n",
    "* np.array([0, 1, 2, 3, 4, 5])"
   ]
  },
  {
   "cell_type": "markdown",
   "metadata": {},
   "source": [
    "## Subconjunto de matrices Numpy\n",
    "\n",
    "Lo has visto con tus propios ojos: las listas y matrices numpy de Python a veces se comportan de manera diferente. Afortunadamente, todavía hay certezas en este mundo. Por ejemplo, el subconjunto (usando la notación de corchetes en listas o matrices) funciona exactamente igual. Para ver esto usted mismo, pruebe las siguientes líneas de código en el Shell de IPython:\n",
    "\n",
    "x = [\"a\", \"b\", \"c\"]  \n",
    "x[1]  \n",
    "\n",
    "np_x = np.array(x)\n",
    "np_x[1]  \n",
    "\n",
    "La secuencia de comandos a la derecha ya contiene código que las importaciones *numpy* como *np*, y almacena tanto la altura y el peso de los jugadores de la MLB como matrices *numpy*.\n",
    "\n",
    "**Actividad**\n",
    "* Subconjunto *np_weight_lb* imprimiendo el elemento en el índice 50.\n",
    "* Imprima una sub-matriz *np_height_in* que contenga los elementos en el índice 100 hasta el índice 110 **inclusive**."
   ]
  },
  {
   "cell_type": "code",
   "execution_count": 42,
   "metadata": {},
   "outputs": [
    {
     "name": "stdout",
     "output_type": "stream",
     "text": [
      "195.0\n",
      "[73 72 74 73 74 72 73 69 72 73 75]\n"
     ]
    }
   ],
   "source": [
    "# height and weight are available as a regular lists\n",
    "\n",
    "# Import numpy\n",
    "import numpy as np\n",
    "\n",
    "# Store weight and height lists as numpy arrays\n",
    "np_weight_lb = np.array(weight_lb)\n",
    "np_height_in = np.array(height_in)\n",
    "\n",
    "# Print out the weight at index 50\n",
    "print(np_weight_lb[50])\n",
    "\n",
    "# Print out sub-array of np_height_in: index 100 up to and including index 110\n",
    "print(np_height_in[100:111])"
   ]
  },
  {
   "cell_type": "code",
   "execution_count": null,
   "metadata": {},
   "outputs": [],
   "source": []
  }
 ],
 "metadata": {
  "kernelspec": {
   "display_name": "Python 3",
   "language": "python",
   "name": "python3"
  },
  "language_info": {
   "codemirror_mode": {
    "name": "ipython",
    "version": 3
   },
   "file_extension": ".py",
   "mimetype": "text/x-python",
   "name": "python",
   "nbconvert_exporter": "python",
   "pygments_lexer": "ipython3",
   "version": "3.7.3"
  }
 },
 "nbformat": 4,
 "nbformat_minor": 2
}
