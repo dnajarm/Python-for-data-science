{
 "cells": [
  {
   "cell_type": "markdown",
   "metadata": {},
   "source": [
    "## Métodos de string\n",
    "\n",
    "Las cadenas vienen con un montón de métodos. Siga las instrucciones de cerca para descubrir algunas de ellas. Si desea descubrirlos con más detalle, siempre puede escribir help(str) en python.\n",
    "\n",
    "*place* Ya se ha creado una cadena para que experimente.\n",
    "\n",
    "**Actividad**\n",
    "\n",
    "* Use el método **upper()**  sobre *place* y almacene el resultado en *place_up*.\n",
    "* Imprimir *place* y *place_up*. ¿Ambos cambiaron?\n",
    "* Imprimir el número de ceros en la variable *place* llamando **count()** sobre *place* y pasando la carta 'o'como una entrada para el método. ¡Estamos hablando de la variable *place*, no de la palabra \"place\"!\n"
   ]
  },
  {
   "cell_type": "code",
   "execution_count": 1,
   "metadata": {},
   "outputs": [
    {
     "name": "stdout",
     "output_type": "stream",
     "text": [
      "poolhouse\n",
      "POOLHOUSE\n",
      "3\n"
     ]
    }
   ],
   "source": [
    "# string to experiment with: place\n",
    "place = \"poolhouse\"\n",
    "\n",
    "# Use upper() on place: place_up\n",
    "place_up = place.upper()\n",
    "\n",
    "# Print out place and place_up\n",
    "print(place)\n",
    "print(place_up)\n",
    "\n",
    "# Print out the number of o's in place\n",
    "print(place.count('o'))"
   ]
  },
  {
   "cell_type": "markdown",
   "metadata": {},
   "source": [
    "## Métodos de lista\n",
    "\n",
    "Las cadenas no son los únicos tipos de Python que tienen métodos asociados con ellas. Las listas, flotantes, enteros y booleanos también son tipos que vienen empaquetados con un montón de métodos útiles. En este ejercicio, experimentarás con:\n",
    "\n",
    "index(), para obtener el índice del primer elemento de una lista que coincide con su entrada y\n",
    "count(), para obtener el número de veces que aparece un elemento en una lista.\n",
    "Que va a trabajar en la lista con el área de las diferentes partes de una casa: areas.\n",
    "\n",
    "**Actividad**\n",
    "* Use el *index()* método para obtener el índice del elemento areasque es igual a **20.0**. Imprime este índice.\n",
    "* Llamar *count()* en *areas* averiguar cuántas veces **9.50** aparece en la lista. Nuevamente imprima este número."
   ]
  },
  {
   "cell_type": "code",
   "execution_count": 2,
   "metadata": {},
   "outputs": [
    {
     "name": "stdout",
     "output_type": "stream",
     "text": [
      "2\n",
      "1\n"
     ]
    }
   ],
   "source": [
    "# Create list areas\n",
    "areas = [11.25, 18.0, 20.0, 10.75, 9.50]\n",
    "\n",
    "# Print out the index of the element 20.0\n",
    "print(areas.index(20.0))\n",
    "\n",
    "# Print out how often 9.50 appears in areas\n",
    "print(areas.count(9.50))\n"
   ]
  },
  {
   "cell_type": "markdown",
   "metadata": {},
   "source": [
    "## Métodos de lista (2)\n",
    "\n",
    "La mayoría de los métodos de lista cambiarán la lista a la que están llamados. Ejemplos son:\n",
    "\n",
    "* **append()**, que agrega un elemento a la lista en la que se invoca,\n",
    "* **remove()**, que elimina el primer elemento de una lista que coincide con la entrada, y\n",
    "* **reverse()**, que invierte el orden de los elementos en la lista a la que se llama.\n",
    "\n",
    "Que va a trabajar en la lista con el área de diferentes partes de la casa: *areas*.\n",
    "\n",
    "**Actividad**\n",
    "\n",
    "* Use **append()** dos veces para agregar nuevamente el tamaño de la casa de la piscina y el garaje: **24.5** y **15.45**, respectivamente. Asegúrese de agregarlos en este orden.\n",
    "* Imprimir *areas*\n",
    "* Use el método **reverse()** para invertir el orden de los elementos en areas.\n",
    "* Imprime *areas* una vez más.\n"
   ]
  },
  {
   "cell_type": "code",
   "execution_count": 10,
   "metadata": {},
   "outputs": [
    {
     "name": "stdout",
     "output_type": "stream",
     "text": [
      "[11.25, 18.0, 20.0, 10.75, 9.5, 24.5, 15.45]\n",
      "[15.45, 24.5, 9.5, 10.75, 20.0, 18.0, 11.25]\n"
     ]
    }
   ],
   "source": [
    "# Create list areas\n",
    "areas = [11.25, 18.0, 20.0, 10.75, 9.50]\n",
    "\n",
    "# Use append twice to add poolhouse and garage size\n",
    "areas.append(24.5)\n",
    "areas.append(15.45)\n",
    "\n",
    "\n",
    "# Print out areas\n",
    "print(areas)\n",
    "\n",
    "# Reverse the orders of the elements in areas\n",
    "areas.reverse()\n",
    "\n",
    "# Print out areas\n",
    "print(areas)"
   ]
  },
  {
   "cell_type": "code",
   "execution_count": 11,
   "metadata": {},
   "outputs": [],
   "source": []
  }
 ],
 "metadata": {
  "kernelspec": {
   "display_name": "Python 3",
   "language": "python",
   "name": "python3"
  },
  "language_info": {
   "codemirror_mode": {
    "name": "ipython",
    "version": 3
   },
   "file_extension": ".py",
   "mimetype": "text/x-python",
   "name": "python",
   "nbconvert_exporter": "python",
   "pygments_lexer": "ipython3",
   "version": "3.7.3"
  }
 },
 "nbformat": 4,
 "nbformat_minor": 2
}
