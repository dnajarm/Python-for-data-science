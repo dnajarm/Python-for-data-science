{
 "cells": [
  {
   "cell_type": "markdown",
   "metadata": {},
   "source": [
    "## Promedio versus mediana\n",
    "\n",
    "Ahora sabe cómo usar las funciones *numpy* para tener una mejor idea de sus datos. Básicamente se trata de importar *numpy* y luego llamar a varias funciones simples en las matrices *numpy*:\n",
    "\n",
    "**import numpy as np  \n",
    "x = [1, 4, 8, 10, 12]  \n",
    "np.mean(x)  \n",
    "np.median(x)**  \n",
    "\n",
    "Los datos de béisbol están disponibles como una matriz 2D *numpy* con 3 columnas (altura, peso, edad) y 1015 filas. El nombre de esta matriz *numpy* es *np_baseball*. Sin embargo, después de reestructurar los datos, observa que algunos valores de altura son anormalmente altos. Siga las instrucciones y descubra qué estadística de resumen es la más adecuada si se trata de los llamados valores atípicos.\n",
    "\n",
    "**Actividad**\n",
    "* Cree una matriz *numpy* *np_height_in* que sea igual a la primera columna de *np_baseball*.\n",
    "* Imprime la media de *np_height_in*.\n",
    "* Imprime la mediana de *np_height_in*."
   ]
  },
  {
   "cell_type": "code",
   "execution_count": 15,
   "metadata": {},
   "outputs": [
    {
     "name": "stdout",
     "output_type": "stream",
     "text": [
      "1033.676015473888\n",
      "74.0\n"
     ]
    }
   ],
   "source": [
    "# np_baseball is available\n",
    "import pandas as pd\n",
    "df = pd.read_csv(\"data/mlb_weight_ht.csv\")\n",
    "baseball = df[['Height(inches)', 'Weight(pounds)', 'Age']].values.tolist()\n",
    "\n",
    "# se crean valores atipicos\n",
    "np_baseball = np.array(baseball)\n",
    "np_baseball[:,0][100:200] = 10000\n",
    "\n",
    "# Import numpy\n",
    "import numpy as np\n",
    "\n",
    "# Create np_height_in from np_baseball\n",
    "np_height_in = np.array(np_baseball[:,0])\n",
    "\n",
    "# Print out the mean of np_height_in\n",
    "print(np.mean(np_height_in))\n",
    "\n",
    "# Print out the median of np_height_in\n",
    "print(np.median(np_height_in))"
   ]
  },
  {
   "cell_type": "markdown",
   "metadata": {},
   "source": [
    "## Explore los datos del béisbol\n",
    "\n",
    "Debido a que la media y la mediana están muy separadas, usted decide quejarse ante la MLB. Encuentran el error y le envían los datos corregidos. Está nuevamente disponible como una matriz 2D Numpy *np_baseball*, con tres columnas.\n",
    "\n",
    "El script de Python a la derecha ya incluye código para imprimir mensajes informativos con las diferentes estadísticas de resumen. ¿Puedes terminar el trabajo?\n",
    "\n",
    "**Actividad**\n",
    "\n",
    "* El código para imprimir la altura media ya está incluido. Complete el código para la altura media. Reemplace *None* con el código correcto.\n",
    "* Use **np.std()** en la primera columna de *np_baseball* para calcular *stddev*. Reemplace *None* con el código correcto.\n",
    "* ¿Los grandes jugadores tienden a ser más pesados? Se usa **np.corrcoef()** para almacenar la correlación entre la primera y la segunda columna de *np_baseball* in *corr*. Reemplace *None* con el código correcto.\n"
   ]
  },
  {
   "cell_type": "code",
   "execution_count": 29,
   "metadata": {},
   "outputs": [
    {
     "name": "stdout",
     "output_type": "stream",
     "text": [
      "Average: 73.6972920696325\n",
      "Median: 74.0\n",
      "Standard Deviation: 2.304703041620148\n",
      "Correlation: [[1.         0.53174622]\n",
      " [0.53174622 1.        ]]\n"
     ]
    }
   ],
   "source": [
    "# np_baseball is available\n",
    "# np_baseball is available\n",
    "import pandas as pd\n",
    "df = pd.read_csv(\"data/mlb_weight_ht.csv\")\n",
    "baseball = df[['Height(inches)', 'Weight(pounds)', 'Age']].values.tolist()\n",
    "\n",
    "# se crean valores atipicos\n",
    "np_baseball = np.array(baseball)\n",
    "\n",
    "# Import numpy\n",
    "import numpy as np\n",
    "\n",
    "# Print mean height (first column)\n",
    "avg = np.mean(np_baseball[:,0])\n",
    "print(\"Average: \" + str(avg))\n",
    "\n",
    "# Print median height. Replace 'None'\n",
    "med = np.median(np_baseball[:,0])\n",
    "print(\"Median: \" + str(med))\n",
    "\n",
    "# Print out the standard deviation on height. Replace 'None'\n",
    "stddev = np.std(np_baseball[:,0])\n",
    "print(\"Standard Deviation: \" + str(stddev))\n",
    "\n",
    "# Print out correlation between first and second column. Replace 'None'\n",
    "# genera un vector de media\n",
    "col_mean = np.nanmean(np_baseball, axis=0)\n",
    "\n",
    "# genera un vector donde el valor nulo sale como verdadero\n",
    "inds = np.where(np.isnan(np_baseball))\n",
    "#reemplaza los nan por la media\n",
    "np_baseball[inds] = np.take(col_mean, inds[1])\n",
    "corr = np.corrcoef(np_baseball[:,0],np_baseball[:,1])\n",
    "print(\"Correlation: \" + str(corr))"
   ]
  },
  {
   "cell_type": "markdown",
   "metadata": {},
   "source": [
    "## Mezcla todo junto\n",
    "\n",
    "En los últimos ejercicios has aprendido todo lo que hay que saber sobre las alturas y los pesos de los jugadores de béisbol. Ahora es el momento de sumergirse en otro deporte: el fútbol.\n",
    "\n",
    "Se ha puesto en contacto con la FIFA para obtener algunos datos y le han entregado dos listas. Las listas son las siguientes:\n",
    "\n",
    "positions = ['GK', 'M', 'A', 'D', ...]  \n",
    "heights = [191, 184, 185, 180, ...]  \n",
    "\n",
    "Cada elemento en las listas corresponde a un jugador. La primera lista, *positions* contiene strings que representan la posición de cada jugador. Las posibles posiciones son: 'GK'(portero), 'M'(centro del campo), 'A'(ataque) y 'D'(defensa). La segunda lista, *heights* contiene números enteros que representan la altura del jugador en cm. El primer jugador en las listas es un portero y es bastante alto (191 cm).\n",
    "\n",
    "Estás bastante seguro de que la altura media de los porteros es más alta que la de otros jugadores en el campo de fútbol. Algunos de tus amigos no te creen, por lo que estás decidido a mostrarlos utilizando los datos que recibiste de FIFA y tus habilidades Python recién adquiridas.\n",
    "\n",
    "**Actividad**\n",
    "* Convierta *heights* y *positions*, que son listas regulares, a matrices numpy. Llámalos *np_heights* y *np_positions*.\n",
    "* Extrae todas las alturas de los porteros. Puede usar un pequeño truco aquí: usar *np_positions == 'GK'* como índice para *np_heights*. Asignar el resultado a *gk_heights*.\n",
    "* Extrae todas las alturas de todos los demás jugadores. Esta vez usar *np_positions != 'GK'* como índice para *np_heights*. * Asignar el resultado a *other_heights*.\n",
    "* Imprima la altura media de los porteros utilizando **np.median()**. Reemplace *None* con el código correcto.\n",
    "* Haz lo mismo con los otros jugadores. Imprime su altura media. Reemplace *None* con el código correcto."
   ]
  },
  {
   "cell_type": "code",
   "execution_count": 48,
   "metadata": {},
   "outputs": [
    {
     "name": "stdout",
     "output_type": "stream",
     "text": [
      "Median height of goalkeepers: 190.0\n",
      "Median height of other players: 183.0\n"
     ]
    }
   ],
   "source": [
    "# heights and positions are available as lists\n",
    "df = pd.read_csv(\"data/Bundesliga_Data_Pos_App.csv\", sep = ';', encoding=\"latin1\")\n",
    "positions = df['Pos']\n",
    "heights = df['cm']\n",
    "\n",
    "# Import numpy\n",
    "import numpy as np\n",
    "\n",
    "# Convert positions and heights to numpy arrays: np_positions, np_heights\n",
    "np_positions = np.array(positions)\n",
    "np_heights = np.array(heights)\n",
    "\n",
    "# Heights of the goalkeepers: gk_heights\n",
    "gk_heights = np_heights[np_positions == 'GK']\n",
    "\n",
    "# Heights of the other players: other_heights\n",
    "other_heights = np_heights[np_positions != 'GK']\n",
    "\n",
    "# Print out the median height of goalkeepers. Replace 'None'\n",
    "print(\"Median height of goalkeepers: \" + str(np.median(gk_heights)))\n",
    "\n",
    "# Print out the median height of other players. Replace 'None'\n",
    "print(\"Median height of other players: \" + str(np.median(other_heights)))"
   ]
  },
  {
   "cell_type": "code",
   "execution_count": null,
   "metadata": {},
   "outputs": [],
   "source": []
  }
 ],
 "metadata": {
  "kernelspec": {
   "display_name": "Python 3",
   "language": "python",
   "name": "python3"
  },
  "language_info": {
   "codemirror_mode": {
    "name": "ipython",
    "version": 3
   },
   "file_extension": ".py",
   "mimetype": "text/x-python",
   "name": "python",
   "nbconvert_exporter": "python",
   "pygments_lexer": "ipython3",
   "version": "3.7.3"
  }
 },
 "nbformat": 4,
 "nbformat_minor": 2
}
