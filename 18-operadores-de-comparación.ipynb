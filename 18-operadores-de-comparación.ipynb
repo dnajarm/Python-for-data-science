{
 "cells": [
  {
   "cell_type": "markdown",
   "metadata": {},
   "source": [
    "## Igualdad\n",
    "\n",
    "Para verificar si dos valores de Python, o variables, son iguales, puede usar **==**. Para verificar la desigualdad, necesitas **!=**. Como repaso, eche un vistazo a los siguientes ejemplos que resultan en todos True. Siéntase libre de probarlos.\n",
    "\n",
    "**2 == (1 + 1)  \n",
    "\"intermediate\" != \"python\"  \n",
    "True != False  \n",
    "\"Python\" != \"python\"**\n",
    "\n",
    "Cuando escriba estas comparaciones en un script, deberá ajustar una función **print()** sobre ellas para ver el resultado.\n",
    "\n",
    "**Actividad**\n",
    "\n",
    "* En las celdas de jupyter, escriba el código para ver si *True* es igual *False*.\n",
    "* Escriba el código de Python para verificar si *-5 * 15* no es igual a *75*.\n",
    "* Pregunte a Python si los strings *\"pyscript\"* y *\"PyScript\"* son iguales.\n",
    "* ¿Qué sucede si comparas booleanos y enteros? Escriba el código para ver si *True* y *1* son iguales."
   ]
  },
  {
   "cell_type": "code",
   "execution_count": 1,
   "metadata": {},
   "outputs": [
    {
     "data": {
      "text/plain": [
       "True"
      ]
     },
     "execution_count": 1,
     "metadata": {},
     "output_type": "execute_result"
    }
   ],
   "source": [
    "# Comparison of booleans\n",
    "True == False\n",
    "\n",
    "# Comparison of integers\n",
    "-5 * 15 != 75\n",
    "\n",
    "# Comparison of strings\n",
    "\"pyscript\" == \"PyScript\"\n",
    "\n",
    "# Compare a boolean with an integer\n",
    "True == 1"
   ]
  },
  {
   "cell_type": "markdown",
   "metadata": {},
   "source": [
    "## Mayor y menor que\n",
    "\n",
    "Los signos menores y mayores que (*<* y *>*) en Python. Puede combinarlos con un signo igual: *<=* y *>=*. Presta atención: *<=* es una sintaxis válida, pero no lo es *=<*.\n",
    "\n",
    "Todas las expresiones de Python en el siguiente fragmento de código se evalúan para *True*:\n",
    "\n",
    "**3 < 4\n",
    "3 <= 4\n",
    "\"alpha\" <= \"beta\"**\n",
    "\n",
    "Recuerde que para la comparación de strings, Python determina la relación en función del orden alfabético.\n",
    "\n",
    "**Actividad**\n",
    "* Escriba expresiones de Python, envueltas en una print()función, para verificar si:\n",
    "    * *x* es mayor que o igual a *-10*. *x* ya ha sido definido para ti.\n",
    "    * *\"test\"* es menor que o igual a *y*. *y* ya ha sido definido para ti.\n",
    "    * *True* es mayor que *False*."
   ]
  },
  {
   "cell_type": "code",
   "execution_count": 2,
   "metadata": {},
   "outputs": [
    {
     "name": "stdout",
     "output_type": "stream",
     "text": [
      "False\n",
      "True\n",
      "True\n"
     ]
    }
   ],
   "source": [
    "# Comparison of integers\n",
    "x = -3 * 6\n",
    "\n",
    "\n",
    "# Comparison of strings\n",
    "y = \"test\"\n",
    "\n",
    "\n",
    "# Comparison of booleans\n",
    "print(x >= -10)\n",
    "print(\"test\" <= y)\n",
    "print(True>False)"
   ]
  },
  {
   "cell_type": "markdown",
   "metadata": {},
   "source": [
    "## Comparar matrices\n",
    "\n",
    "También puede usar operadores de comparación con matrices Numpy.\n",
    "\n",
    "Recuerde *areas*, la lista de medidas de área para diferentes habitaciones en su casa, desde Introducción a Python . Esta vez hay dos matrices Numpy: *my_house* y *your_house*. Ambos contienen las áreas para la cocina, la sala de estar, el dormitorio y el baño en el mismo orden, para que pueda compararlos.\n",
    "\n",
    "**Actividad**\n",
    "\n",
    "Usando operadores de comparación, genere matrices booleanas que respondan las siguientes preguntas:\n",
    "\n",
    "* ¿Qué áreas en *my_house* son mayores o iguales a *18*?\n",
    "* También puede comparar dos matrices Numpy en cuanto a elementos. ¿En qué áreas *my_house* son más pequeñas que las que hay *your_house*?\n",
    "* ¡Asegúrese de ajustar ambos comandos en una declaración **print()** para que pueda inspeccionar la salida!\n"
   ]
  },
  {
   "cell_type": "code",
   "execution_count": 3,
   "metadata": {},
   "outputs": [
    {
     "name": "stdout",
     "output_type": "stream",
     "text": [
      "[ True  True False False]\n",
      "[False  True  True False]\n"
     ]
    }
   ],
   "source": [
    "# Create arrays\n",
    "import numpy as np\n",
    "my_house = np.array([18.0, 20.0, 10.75, 9.50])\n",
    "your_house = np.array([14.0, 24.0, 14.25, 9.0])\n",
    "\n",
    "# my_house greater than or equal to 18\n",
    "print(my_house>=18)\n",
    "\n",
    "# my_house less than your_house\n",
    "print(my_house<your_house)"
   ]
  },
  {
   "cell_type": "code",
   "execution_count": null,
   "metadata": {},
   "outputs": [],
   "source": []
  }
 ],
 "metadata": {
  "kernelspec": {
   "display_name": "Python 3",
   "language": "python",
   "name": "python3"
  },
  "language_info": {
   "codemirror_mode": {
    "name": "ipython",
    "version": 3
   },
   "file_extension": ".py",
   "mimetype": "text/x-python",
   "name": "python",
   "nbconvert_exporter": "python",
   "pygments_lexer": "ipython3",
   "version": "3.7.3"
  }
 },
 "nbformat": 4,
 "nbformat_minor": 2
}
