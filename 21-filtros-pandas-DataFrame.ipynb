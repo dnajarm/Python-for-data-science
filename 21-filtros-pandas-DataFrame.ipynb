{
 "cells": [
  {
   "cell_type": "markdown",
   "metadata": {},
   "source": [
    "## Driving right (1)\n",
    "\n",
    "¿Recuerda el dataset *cars* que contiene los automóviles por cada 1000 personas (cars_per_cap) y si las personas conducen correctamente (drives_right) para diferentes países (country)? El código que importa estos datos en formato CSV en Python como DataFrame está disponible.\n",
    "\n",
    "Comencemos de manera simple e intentemos encontrar todas las observaciones en *cars* donde *drives_right* son *True*.\n",
    "\n",
    "*drives_right* es una columna booleana, por lo que tendrá que extraerla como una Serie y luego usar esta Serie booleana para seleccionar observaciones *cars*.\n",
    "\n",
    "**Actividad**\n",
    "\n",
    "* Extraiga la columna *drives_right* como una serie de pandas y guárdela como *dr*.\n",
    "* Utilice *dr*, una serie booleana, para subconjugar el DataFrame *cars*. Almacene la selección resultante en *sel*.\n",
    "* Imprima *sel* y afirme que *drives_right* son *True* para todas las observaciones."
   ]
  },
  {
   "cell_type": "code",
   "execution_count": 2,
   "metadata": {},
   "outputs": [
    {
     "name": "stdout",
     "output_type": "stream",
     "text": [
      "     cars_per_cap        country  drives_right\n",
      "US            809  United States          True\n",
      "RU            200         Russia          True\n",
      "MOR            70        Morocco          True\n",
      "EG             45          Egypt          True\n"
     ]
    }
   ],
   "source": [
    "# Import cars data\n",
    "import pandas as pd\n",
    "cars = pd.read_csv('data/cars.csv', sep =';', index_col=0)\n",
    "\n",
    "# Extract drives_right column as Series: dr\n",
    "dr = cars[\"drives_right\"]\n",
    "\n",
    "# Use dr to subset cars: sel\n",
    "sel = cars[dr]\n",
    "\n",
    "# Print sel\n",
    "print(sel)"
   ]
  },
  {
   "cell_type": "markdown",
   "metadata": {},
   "source": [
    "## Driving right (2)\n",
    "\n",
    "El código en el ejemplo anterior funcionó bien, pero en realidad creó innecesariamente una nueva variable *dr*. Puede lograr el mismo resultado sin esta variable intermedia. Ponga el código que computa *dr* directamente entre corchetes que seleccionan las observaciones *cars*.\n",
    "\n",
    "**Actividad**\n",
    "\n",
    "Convierta el código de la derecha a una línea que calcule la variable *sel* como antes."
   ]
  },
  {
   "cell_type": "code",
   "execution_count": 3,
   "metadata": {},
   "outputs": [
    {
     "name": "stdout",
     "output_type": "stream",
     "text": [
      "     cars_per_cap        country  drives_right\n",
      "US            809  United States          True\n",
      "RU            200         Russia          True\n",
      "MOR            70        Morocco          True\n",
      "EG             45          Egypt          True\n"
     ]
    }
   ],
   "source": [
    "# Import cars data\n",
    "import pandas as pd\n",
    "cars = pd.read_csv('data/cars.csv', sep =';', index_col=0)\n",
    "\n",
    "# Convert code to a one-liner\n",
    "sel = cars[cars['drives_right']]\n",
    "\n",
    "# Print sel\n",
    "print(sel)"
   ]
  },
  {
   "cell_type": "markdown",
   "metadata": {},
   "source": [
    "## Cars per capita (1)\n",
    "\n",
    "Sigamos con los datos *cars* un poco más. Esta vez, desea saber qué países tienen una cifra alta de automóviles per cápita . En otras palabras, en qué países muchas personas tienen un automóvil, o tal vez varios automóviles.\n",
    "\n",
    "De manera similar al ejemplo anterior, querrá construir una Serie booleana, que luego puede usar para subconjugar el DataFrame *cars* para seleccionar ciertas observaciones. Si quieres hacer esto de una sola vez, ¡está perfectamente bien!\n",
    "\n",
    "**Actividad**\n",
    "\n",
    "* Seleccione la columna *cars_per_cap* de *cars* como Serie de pandas y guárdela como *cpc*.\n",
    "* Use *cpc* en combinación con un operador de comparación y 500. ¿Quieres terminar con una serie booleana que *True* es si el país correspondiente tiene más de 500 *cars_per_cap* y *False* de lo contrario. Almacene esta serie booleana como *many_cars*.\n",
    "* Use *many_cars* para subconjunto *cars*, similar a lo que hizo antes. Almacene el resultado como *car_maniac*.\n",
    "* Imprima *car_maniac* para ver si lo hizo bien."
   ]
  },
  {
   "cell_type": "code",
   "execution_count": 6,
   "metadata": {},
   "outputs": [
    {
     "name": "stdout",
     "output_type": "stream",
     "text": [
      "     cars_per_cap        country  drives_right\n",
      "US            809  United States          True\n",
      "AUS           731      Australia         False\n",
      "JPN           588          Japan         False\n"
     ]
    }
   ],
   "source": [
    "# Import cars data\n",
    "import pandas as pd\n",
    "cars = pd.read_csv('data/cars.csv', sep =';', index_col=0)\n",
    "\n",
    "# Create car_maniac: observations that have a cars_per_cap over 500\n",
    "car_maniac = cars[cars[\"cars_per_cap\"]>500]\n",
    "\n",
    "# Print car_maniac\n",
    "print(car_maniac)"
   ]
  },
  {
   "cell_type": "markdown",
   "metadata": {},
   "source": [
    "## Cars per capita (2)\n",
    "\n",
    "Recuerdan los *np.logical_and(), np.logical_or() y np.logical_not()*, las operadores variantes de Numpy para and, or y not? También puede usarlos en Pandas Series para realizar operaciones de filtrado más avanzadas.\n",
    "\n",
    "Tome este ejemplo que selecciona las observaciones que tienen *cars_per_cap* entre 10 y 80. Pruebe estas líneas de código paso a paso para ver qué está sucediendo.\n",
    "\n",
    "**cpc = cars['cars_per_cap']  \n",
    "between = np.logical_and(cpc > 10, cpc < 80)  \n",
    "medium = cars[between]**\n",
    "\n",
    "**Actividad**\n",
    "\n",
    "* Utilice el ejemplo de código anterior para crear un DataFrame *medium*, que incluye todas las observaciones de *cars* que tienen un intervalo *cars_per_cap* entre *100* y *500*.\n",
    "* Imprimir *medium*."
   ]
  },
  {
   "cell_type": "code",
   "execution_count": 8,
   "metadata": {},
   "outputs": [
    {
     "name": "stdout",
     "output_type": "stream",
     "text": [
      "    cars_per_cap country  drives_right\n",
      "RU           200  Russia          True\n"
     ]
    }
   ],
   "source": [
    "# Import cars data\n",
    "import pandas as pd\n",
    "cars = pd.read_csv('data/cars.csv', sep =';', index_col=0)\n",
    "\n",
    "# Import numpy, you'll need this\n",
    "import numpy as np\n",
    "\n",
    "# Create medium: observations with cars_per_cap between 100 and 500\n",
    "medium = cars[np.logical_and(cars['cars_per_cap']>100,cars['cars_per_cap']<500)]\n",
    "\n",
    "# Print medium\n",
    "print(medium)"
   ]
  },
  {
   "cell_type": "code",
   "execution_count": null,
   "metadata": {},
   "outputs": [],
   "source": []
  }
 ],
 "metadata": {
  "kernelspec": {
   "display_name": "Python 3",
   "language": "python",
   "name": "python3"
  },
  "language_info": {
   "codemirror_mode": {
    "name": "ipython",
    "version": 3
   },
   "file_extension": ".py",
   "mimetype": "text/x-python",
   "name": "python",
   "nbconvert_exporter": "python",
   "pygments_lexer": "ipython3",
   "version": "3.7.3"
  }
 },
 "nbformat": 4,
 "nbformat_minor": 2
}
