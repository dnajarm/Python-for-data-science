{
 "cells": [
  {
   "cell_type": "markdown",
   "metadata": {},
   "source": [
    "## Crear una lista\n",
    "\n",
    "A diferencia de los tipos de datos *int*, *bool*, etc., una lista es un tipo de datos compuesto; dónde puedes agrupar valores:\n",
    "\n",
    "```python\n",
    "a = \"is\"  \n",
    "b = \"nice\"  \n",
    "my_list = [\"my\", \"list\", a, b]\n",
    "```\n",
    "\n",
    "Después de medir la altura de su familia, decide recopilar información sobre la casa en la que vive. Las áreas de las diferentes partes de su casa se almacenan en variables separadas por ahora, como se muestra arriba.\n",
    "\n",
    "**Actividad**\n",
    "\n",
    "* Cree una lista llamada *areas* que contenga el área del pasillo (hall), la cocina (kit), la sala de estar (liv), el dormitorio (bed) y el baño (bath), en este orden. Utiliza las variables predefinidas.\n",
    "\n",
    "* Imprime *areas* con la función print()."
   ]
  },
  {
   "cell_type": "code",
   "execution_count": 2,
   "metadata": {},
   "outputs": [
    {
     "name": "stdout",
     "output_type": "stream",
     "text": [
      "[11.25, 18.0, 20.0, 10.75, 9.5]\n"
     ]
    }
   ],
   "source": [
    "# variables de area (en metros cuadrados)\n",
    "hall = 11.25\n",
    "kit = 18.0\n",
    "liv = 20.0\n",
    "bed = 10.75\n",
    "bath = 9.50\n",
    "\n",
    "# Crea lista de areas\n",
    "areas = [hall, kit, liv, bed, bath]\n",
    "\n",
    "# Imprime areas\n",
    "print(areas)"
   ]
  },
  {
   "cell_type": "markdown",
   "metadata": {},
   "source": [
    "## Crea una lista con diferentes tipos\n",
    "\n",
    "Una lista puede contener cualquier tipo de dato de Python. Aunque no es realmente común, una lista también puede contener una combinación de tipos de datos de Python que incluyen cadenas, flotantes, booleanos, etc.\n",
    "\n",
    "La impresión del ejercicio anterior no fue realmente satisfactoria. Es solo una lista de números que representan las áreas, pero no puede saber qué área corresponde a qué parte de su casa.\n",
    "\n",
    "El código de abajo es el comienzo de una solución. Para algunas de las áreas, el nombre de la habitación correspondiente ya se encuentra al frente. ¡Presta atención aquí! \"bathroom\"es una cadena, mientras que bath una variable que representa el flotante 9.50 que especificó anteriormente.\n",
    "\n",
    "Termine la línea de código que crea la lista de areas. Cree la lista de modo que primero contenga el nombre de cada habitación como una cadena y luego su área. En otras palabras, añadir los strings \"hallway\", \"kitchen\" y \"bedroom\"en los lugares apropiados.\n",
    "\n",
    "Imprimir de areasnuevo; ¿Es la impresión más informativa esta vez?"
   ]
  },
  {
   "cell_type": "code",
   "execution_count": 4,
   "metadata": {},
   "outputs": [
    {
     "name": "stdout",
     "output_type": "stream",
     "text": [
      "['hallway', 11.25, 'kitchen', 18.0, 'living room', 20.0, 'bedroom', 10.75, 'bathroom', 9.5]\n"
     ]
    }
   ],
   "source": [
    "# area variables (in square meters)\n",
    "hall = 11.25\n",
    "kit = 18.0\n",
    "liv = 20.0\n",
    "bed = 10.75\n",
    "bath = 9.50\n",
    "\n",
    "# Adapt list areas\n",
    "areas = [, hall, , kit, \"living room\", liv, \"bedroom\", bed, , bath]\n",
    "\n",
    "# Print areas\n",
    "print(areas)"
   ]
  },
  {
   "cell_type": "markdown",
   "metadata": {},
   "source": [
    "## Selecciona la lista válida\n",
    "\n",
    "Una lista puede contener cualquier tipo de Python. Pero una lista en sí también es de tipo Python. ¡Eso significa que una lista también puede contener una lista! Python se está volviendo cada vez más funky, pero no temas, solo recuerda la sintaxis de la lista:\n",
    "\n",
    "my_list = [el1, el2, el3]\n",
    "\n",
    "Prube las siguientes líneas de código Python y concluya si son formas validas de lista\n",
    "\n",
    "A. [1, 3, 4, 2]  \n",
    "B. [[1, 2, 3], [4, 5, 7]]  \n",
    "C. [1 + 2, \"a\" * 5, 3]"
   ]
  },
  {
   "cell_type": "markdown",
   "metadata": {},
   "source": [
    "## Lista de listas\n",
    "\n",
    "Como científico de datos, a menudo estará tratando con muchos datos, y tendrá sentido agrupar algunos de estos datos.\n",
    "\n",
    "En lugar de crear una lista plana que contenga cadenas y flotantes, que represente los nombres y áreas de las habitaciones de su casa, puede crear una lista de listas.\n",
    "\n",
    "No se confunda aquí: \"hallway\"es una cadena, mientras que halles una variable que representa el flotante 11.25 que especificó anteriormente.\n",
    "\n",
    "* Termine la lista de listas para que también contenga los datos del dormitorio y el baño. ¡Asegúrese de ingresarlos en orden!\n",
    "* Imprimir house; ¿Tiene más sentido esta forma de estructurar sus datos?\n",
    "* Imprime el tipo de house. ¿Sigues lidiando con una lista?"
   ]
  },
  {
   "cell_type": "code",
   "execution_count": 8,
   "metadata": {},
   "outputs": [
    {
     "name": "stdout",
     "output_type": "stream",
     "text": [
      "[['hallway', 11.25], ['kitchen', 18.0], ['living room', 20.0]]\n",
      "<class 'list'>\n"
     ]
    }
   ],
   "source": [
    "# area variables (in square meters)\n",
    "hall = 11.25\n",
    "kit = 18.0\n",
    "liv = 20.0\n",
    "bed = 10.75\n",
    "bath = 9.50\n",
    "\n",
    "# house information as list of lists\n",
    "house = [[\"hallway\", hall],\n",
    "         [\"kitchen\", kit],\n",
    "         [\"living room\", liv]]\n",
    "\n",
    "# Print out house\n",
    "print(house)\n",
    "\n",
    "# Print out the type of house\n",
    "print(type(house))"
   ]
  },
  {
   "cell_type": "markdown",
   "metadata": {},
   "source": [
    "# Subconjunto de listas\n",
    "\n",
    "## Subconjunto y conquistar\n",
    "\n",
    "Subconjunto de listas de Python es pan comido. Tome el ejemplo de código a continuación, que crea una lista x y luego selecciona \"b\". Recuerde que este es el segundo elemento, por lo que tiene el índice 1. También puede usar la indexación negativa.\n",
    "\n",
    "x = [\"a\", \"b\", \"c\", \"d\"]  \n",
    "x[1]  \n",
    "x[-3] # same result!  \n",
    "\n",
    "¿Recuerdas la areaslista de antes, que contiene cadenas y flotantes? Su definición ya está en el guión. ¿Puedes agregar el código correcto para hacer algunos subconjuntos de Python?\n",
    "\n",
    "* Imprima el segundo elemento de la areaslista (tiene el valor 11.25).\n",
    "* Subconjunto e imprime el último elemento de areas, ser 9.50. ¡Usar un índice negativo tiene sentido aquí!\n",
    "* Seleccione el número que representa el área de la sala de estar ( 20.0) e imprímalo."
   ]
  },
  {
   "cell_type": "code",
   "execution_count": 6,
   "metadata": {},
   "outputs": [
    {
     "name": "stdout",
     "output_type": "stream",
     "text": [
      "11.25\n",
      "9.5\n",
      "20.0\n"
     ]
    }
   ],
   "source": [
    "# Create the areas list\n",
    "areas = [\"hallway\", 11.25, \"kitchen\", 18.0, \"living room\", 20.0, \"bedroom\", 10.75, \"bathroom\", 9.50]\n",
    "\n",
    "# Print out second element from areas\n",
    "print(areas[1])\n",
    "\n",
    "# Print out last element from areas\n",
    "print(areas[-1])\n",
    "\n",
    "# Print out the area of the living room\n",
    "print(areas[5])"
   ]
  },
  {
   "cell_type": "markdown",
   "metadata": {},
   "source": [
    "## Subconjunto y calcular\n",
    "\n",
    "Después de extraer los valores de una lista, puede usarlos para realizar cálculos adicionales. Tome este ejemplo, donde de x se extrae el segundo y cuarto elemento de una lista. Las cadenas que resultan se unen usando el operador + :\n"
   ]
  },
  {
   "cell_type": "code",
   "execution_count": 7,
   "metadata": {},
   "outputs": [
    {
     "name": "stdout",
     "output_type": "stream",
     "text": [
      "bd\n"
     ]
    }
   ],
   "source": [
    "x = [\"a\", \"b\", \"c\", \"d\"]\n",
    "\n",
    "print(x[1] + x[3])"
   ]
  },
  {
   "cell_type": "markdown",
   "metadata": {},
   "source": [
    "**Actividad**\n",
    "* Usando una combinación de subconjunto de listas y asignación de variables, cree una nueva variable eat_sleep_areaque contenga la suma del área de la cocina y el área del dormitorio.\n",
    "* Imprime la nueva variable eat_sleep_area."
   ]
  },
  {
   "cell_type": "code",
   "execution_count": 8,
   "metadata": {},
   "outputs": [
    {
     "name": "stdout",
     "output_type": "stream",
     "text": [
      "28.75\n"
     ]
    }
   ],
   "source": [
    "# Create the areas list\n",
    "areas = [\"hallway\", 11.25, \"kitchen\", 18.0, \"living room\", 20.0, \"bedroom\", 10.75, \"bathroom\", 9.50]\n",
    "\n",
    "# Sum of kitchen and bedroom area: eat_sleep_area\n",
    "eat_sleep_area = areas[3]+ areas[-3]\n",
    "\n",
    "# Print the variable eat_sleep_area\n",
    "print(eat_sleep_area)"
   ]
  },
  {
   "cell_type": "markdown",
   "metadata": {},
   "source": [
    "## Tajando y cortando\n",
    "\n",
    "Seleccionar valores individuales de una lista es solo una parte de la historia. También es posible dividir su lista, lo que significa seleccionar varios elementos de su lista. Use la siguiente sintaxis:\n",
    "\n",
    "my_list[start:end]\n",
    "\n",
    "El start índice se incluirá, mientras que el end índice no .\n",
    "\n",
    "El siguiente ejemplo de código muestra un ejemplo. Se selecciona una lista con \"b\" y \"c\", correspondiente a los índices 1 y 2, de una lista x:\n",
    "\n"
   ]
  },
  {
   "cell_type": "code",
   "execution_count": 9,
   "metadata": {},
   "outputs": [
    {
     "data": {
      "text/plain": [
       "['b', 'c']"
      ]
     },
     "execution_count": 9,
     "metadata": {},
     "output_type": "execute_result"
    }
   ],
   "source": [
    "x = [\"a\", \"b\", \"c\", \"d\"]  \n",
    "x[1:3]  \n",
    "\n",
    "#Los elementos con índice 1 y 2 están incluidos, mientras que el elemento con índice 3 no lo está."
   ]
  },
  {
   "cell_type": "markdown",
   "metadata": {},
   "source": [
    "**Actividad**\n",
    "* Use la división para crear una lista downstairs que contenga los primeros 6 elementos de areas.\n",
    "* Haga algo similar para crear una nueva variable upstairs, que contenga los últimos 4 elementos de areas.\n",
    "* Imprime ambos downstairsy upstairsusando print()."
   ]
  },
  {
   "cell_type": "code",
   "execution_count": 10,
   "metadata": {},
   "outputs": [
    {
     "name": "stdout",
     "output_type": "stream",
     "text": [
      "['hallway', 11.25, 'kitchen', 18.0, 'living room', 20.0]\n",
      "['bedroom', 10.75, 'bathroom', 9.5]\n"
     ]
    }
   ],
   "source": [
    "# Create the areas list\n",
    "areas = [\"hallway\", 11.25, \"kitchen\", 18.0, \"living room\", 20.0, \"bedroom\", 10.75, \"bathroom\", 9.50]\n",
    "\n",
    "# Use slicing to create downstairs\n",
    "downstairs = areas[:6]\n",
    "\n",
    "# Use slicing to create upstairs\n",
    "upstairs = areas[-4:]\n",
    "\n",
    "# Print out downstairs and upstairs\n",
    "print(downstairs)\n",
    "print(upstairs)"
   ]
  },
  {
   "cell_type": "markdown",
   "metadata": {},
   "source": [
    "## Rebanar y cortar en cubitos (2)\n",
    "\n",
    "En el video, Hugo primero discutió la sintaxis en la que especifica dónde comenzar y finalizar la porción de su lista:\n",
    "\n",
    "my_list[begin:end]\n",
    "\n",
    "Sin embargo, también es posible no especificar estos índices. Si no especifica el beginíndice, Python descubre que desea comenzar su segmento al comienzo de su lista. Si no especifica el endíndice, el segmento irá hasta el último elemento de su lista. Para experimentar con esto, pruebe los siguientes comandos en el Shell de IPython:"
   ]
  },
  {
   "cell_type": "code",
   "execution_count": 12,
   "metadata": {},
   "outputs": [
    {
     "name": "stdout",
     "output_type": "stream",
     "text": [
      "['a', 'b']\n",
      "['c', 'd']\n",
      "['a', 'b', 'c', 'd']\n"
     ]
    }
   ],
   "source": [
    "x = [\"a\", \"b\", \"c\", \"d\"]\n",
    "\n",
    "print(x[:2])\n",
    "print(x[2:])\n",
    "print(x[:])"
   ]
  },
  {
   "cell_type": "markdown",
   "metadata": {},
   "source": [
    "**Actividad**\n",
    "\n",
    "* Crear de downstairsnuevo, como los primeros 6elementos de areas. Esta vez, simplifique el corte omitiendo el beginíndice.\n",
    "* Crear de upstairsnuevo, como los últimos 4elementos de areas. Esta vez, simplifique el corte omitiendo el endíndice."
   ]
  },
  {
   "cell_type": "code",
   "execution_count": 7,
   "metadata": {},
   "outputs": [],
   "source": [
    "# Create the areas list\n",
    "areas = [\"hallway\", 11.25, \"kitchen\", 18.0, \"living room\", 20.0, \"bedroom\", 10.75, \"bathroom\", 9.50]\n",
    "\n",
    "# Alternative slicing to create downstairs\n",
    "downstairs = areas[:6]\n",
    "\n",
    "# Alternative slicing to create upstairs\n",
    "upstairs = areas[-4:]"
   ]
  },
  {
   "cell_type": "markdown",
   "metadata": {},
   "source": [
    "## Subconjunto de listas de listas\n",
    "\n",
    "Viste antes que una lista de Python puede contener prácticamente cualquier cosa; incluso otras listas! Para subconjuntar listas de listas, puede usar la misma técnica que antes: corchetes. Pruebe los comandos en el siguiente ejemplo de código en las celdas de jupyter:\n",
    "\n",
    "x = [[\"a\", \"b\", \"c\"],  \n",
    "     [\"d\", \"e\", \"f\"],  \n",
    "     [\"g\", \"h\", \"i\"]]  \n",
    "x[2][0]  \n",
    "x[2][:2]\n",
    "\n",
    "x[2] da como resultado una lista que puede volver a subconjuntar agregando corchetes adicionales.\n",
    "\n",
    "¿Qué tipo de datos volverá house[-1][1]?, la lista de listas que creó anteriormente."
   ]
  },
  {
   "cell_type": "code",
   "execution_count": 9,
   "metadata": {},
   "outputs": [
    {
     "data": {
      "text/plain": [
       "20.0"
      ]
     },
     "execution_count": 9,
     "metadata": {},
     "output_type": "execute_result"
    }
   ],
   "source": []
  },
  {
   "cell_type": "code",
   "execution_count": null,
   "metadata": {},
   "outputs": [],
   "source": []
  }
 ],
 "metadata": {
  "kernelspec": {
   "display_name": "Python 3",
   "language": "python",
   "name": "python3"
  },
  "language_info": {
   "codemirror_mode": {
    "name": "ipython",
    "version": 3
   },
   "file_extension": ".py",
   "mimetype": "text/x-python",
   "name": "python",
   "nbconvert_exporter": "python",
   "pygments_lexer": "ipython3",
   "version": "3.6.10"
  }
 },
 "nbformat": 4,
 "nbformat_minor": 2
}
