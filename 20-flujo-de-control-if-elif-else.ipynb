{
 "cells": [
  {
   "cell_type": "markdown",
   "metadata": {},
   "source": [
    "## Introducción\n",
    "\n",
    "Para entender un poco la sentencia *if* y *else*, eche un vistazo a este ejemplo de código:\n",
    "\n",
    "**area = 10.0  \n",
    "if(area < 9) :  \n",
    "&nbsp;&nbsp;&nbsp;&nbsp;&nbsp;&nbsp;    print(\"small\")  \n",
    "elif(area < 12) :  \n",
    "&nbsp;&nbsp;&nbsp;&nbsp;&nbsp;&nbsp;    print(\"medium\")  \n",
    "else :  \n",
    "&nbsp;&nbsp;&nbsp;&nbsp;&nbsp;&nbsp;    print(\"large\")**  \n",
    "    \n",
    "¿Cuál será el resultado si ejecuta este fragmento de código?\n",
    "\n",
    "**Respuestas posibles**\n",
    "* small\n",
    "* medium\n",
    "* large\n",
    "* La sintaxis es incorrecta; Este código producirá un error."
   ]
  },
  {
   "cell_type": "code",
   "execution_count": 3,
   "metadata": {},
   "outputs": [],
   "source": [
    "## evalue sus respuestas\n"
   ]
  },
  {
   "cell_type": "markdown",
   "metadata": {},
   "source": [
    "## if\n",
    "\n",
    "Es hora de mirar más de cerca en su casa.\n",
    "\n",
    "En el código de muestra se definen dos variables: *room* un string que le indica qué habitación de la casa estamos viendo y *area* el área de esa habitación.\n",
    "\n",
    "**Actividad**\n",
    "\n",
    "* Examine la declaración *if* que imprime \"*mirar alrededor en la cocina.*\" si *room* es igual a \"*kit*\".\n",
    "* Escriba otra declaración *if* que imprima *\"¡gran lugar!\"* si *area* es mayor que *15*."
   ]
  },
  {
   "cell_type": "code",
   "execution_count": 6,
   "metadata": {},
   "outputs": [
    {
     "name": "stdout",
     "output_type": "stream",
     "text": [
      "Mirando alrededor en la cocina.\n"
     ]
    }
   ],
   "source": [
    "# Define variables\n",
    "room = \"kit\"\n",
    "area = 14.0\n",
    "\n",
    "# if statement for room\n",
    "if room == \"kit\" :\n",
    "    print(\"mirar alrededor en la cocina.\")\n",
    "\n",
    "# if statement for area\n",
    "if area > 15 :\n",
    "    print(\"gran lugar!\")\n",
    "    "
   ]
  },
  {
   "cell_type": "markdown",
   "metadata": {},
   "source": [
    "## Add else\n",
    "\n",
    "La declaración de *if* para *room* se ha ampliado con una declaración *else* para que \"mirar a otro lado\". se imprime si la condición se evalúa room == \"kit\" como False.\n",
    "\n",
    "¿Puedes hacer algo similar para agregar más funcionalidad a la declaración *if* *area*?\n",
    "\n",
    "**Actividad**\n",
    "\n",
    "* Agregue una declaración *else* a la segunda estructura de control para que sea \"bastante pequeña\". se imprime si se evalúa *area > 15* como *False*.\n",
    "\n",
    "\n"
   ]
  },
  {
   "cell_type": "code",
   "execution_count": 9,
   "metadata": {},
   "outputs": [
    {
     "name": "stdout",
     "output_type": "stream",
     "text": [
      "Mire alrededor en la cocina.\n",
      "bastante pequeña\n"
     ]
    }
   ],
   "source": [
    "# Define variables\n",
    "room = \"kit\"\n",
    "area = 14.0\n",
    "\n",
    "# if-else construct for room\n",
    "if room == \"kit\" :\n",
    "    print(\"mirar alrededor en la cocina.\")\n",
    "else :\n",
    "    print(\"mirar a otro lado.\")\n",
    "\n",
    "# if-else construct for area\n",
    "if area > 15 :\n",
    "    print(\"gran lugar!\")\n",
    "else :\n",
    "    print(\"bastante pequeña\")"
   ]
  },
  {
   "cell_type": "markdown",
   "metadata": {},
   "source": [
    "## Personalizar más: elif\n",
    "\n",
    "También es posible echar un vistazo en la habitación. El código de muestra contiene una parte *elif* que comprueba si *room* es igual a \"cama\". En ese caso, \"mirar alrededor en el dormitorio\". está impreso\n",
    "\n",
    "¡Depende de ti ahora! Haga una adición similar a la segunda estructura de control para personalizar aún más los mensajes para diferentes valores de *area*.\n",
    "\n",
    "**Actividad**\n",
    "\n",
    "Agregue un *elif* a la segunda estructura de control de modo que \"¡tamaño mediano, bonito!\" se imprime si *area* es mayor que 10."
   ]
  },
  {
   "cell_type": "code",
   "execution_count": 12,
   "metadata": {},
   "outputs": [
    {
     "name": "stdout",
     "output_type": "stream",
     "text": [
      "mirar alrededor en el dormitorio\n",
      "¡tamaño mediano, bonito!\n"
     ]
    }
   ],
   "source": [
    "\n",
    "# Define variables\n",
    "room = \"bed\"\n",
    "area = 14.0\n",
    "\n",
    "# if-elif-else construct for room\n",
    "if room == \"kit\" :\n",
    "    print(\"mirar alrededor en la cocina.\")\n",
    "elif room == \"bed\":\n",
    "    print(\"mirar alrededor en el dormitorio\")\n",
    "else :\n",
    "    print(\"mirar a otro lado.\")\n",
    "\n",
    "# if-elif-else construct for area\n",
    "if area > 15 :\n",
    "    print(\"gran lugar!\")\n",
    "elif area > 10:\n",
    "    print(\"¡tamaño mediano, bonito!\")\n",
    "else :\n",
    "    print(\"bastante pequeña\")"
   ]
  },
  {
   "cell_type": "code",
   "execution_count": null,
   "metadata": {},
   "outputs": [],
   "source": []
  }
 ],
 "metadata": {
  "kernelspec": {
   "display_name": "Python 3",
   "language": "python",
   "name": "python3"
  },
  "language_info": {
   "codemirror_mode": {
    "name": "ipython",
    "version": 3
   },
   "file_extension": ".py",
   "mimetype": "text/x-python",
   "name": "python",
   "nbconvert_exporter": "python",
   "pygments_lexer": "ipython3",
   "version": "3.7.3"
  }
 },
 "nbformat": 4,
 "nbformat_minor": 2
}
