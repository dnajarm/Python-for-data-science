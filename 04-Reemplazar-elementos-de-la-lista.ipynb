{
 "cells": [
  {
   "cell_type": "markdown",
   "metadata": {},
   "source": [
    "## Reemplazar elementos de la lista\n",
    "\n",
    "Reemplazar elementos de la lista es bastante fácil. Simplemente subconjunte la lista y asigne nuevos valores al subconjunto. Puede seleccionar elementos individuales o puede cambiar secciones enteras de la lista a la vez.\n",
    "\n",
    "Use las celdas de jupyter para experimentar con los siguientes comandos. ¿Puedes decir qué está pasando y por qué?\n",
    "```python\n",
    "x = [\"a\", \"b\", \"c\", \"d\"]  \n",
    "x[1] = \"r\"  \n",
    "x[2:] = [\"s\", \"t\"]  \n",
    "```\n",
    "Para este y los siguientes ejercicios, continuará trabajando en la lista **areas** que contiene los nombres y áreas de las diferentes habitaciones de una casa.\n",
    "\n",
    "**Actividad**\n",
    "\n",
    "* Actualice el área del baño para que sea 10.50 metros cuadrados en lugar de 9.50.\n",
    "\n",
    "* ¡Haz que la lista  areas sea más moderna! Cambiar \"living room\"a \"chill zone\"."
   ]
  },
  {
   "cell_type": "code",
   "execution_count": 1,
   "metadata": {},
   "outputs": [],
   "source": [
    "# Create the areas list\n",
    "areas = [\"hallway\", 11.25, \"kitchen\", 18.0, \"living room\", 20.0, \"bedroom\", 10.75, \"bathroom\", 9.50]\n",
    "\n",
    "# Correct the bathroom area\n",
    "areas[-1] = 10.50\n",
    "\n",
    "# Change \"living room\" to \"chill zone\"\n",
    "areas[4] = \"chill zone\""
   ]
  },
  {
   "cell_type": "markdown",
   "metadata": {},
   "source": [
    "## Ampliar una lista\n",
    "\n",
    "Si puede cambiar elementos en una lista, seguramente desea poder agregarle elementos, ¿verdad? Puedes usar el operador **+**:\n",
    "```python\n",
    "x = [\"a\", \"b\", \"c\", \"d\"]  \n",
    "y = x + [\"e\", \"f\"]  \n",
    "```\n",
    "¡Acabas de ganar la lotería, increíble! Decides construir una casa de la piscina y un garaje. ¿Puedes agregar la información a la lista **areas**?\n",
    "\n",
    "**Actividad**\n",
    "\n",
    "* Use el operador **+** para pegar la lista [\"poolhouse\", 24.5] al final de la lista *areas*. Almacene la lista resultante como *areas_1*.\n",
    "* Amplíe aún más *areas_1* agregando datos en su garaje. Agrega la cuerda \"garage\"y flota 15.45. Nombra la lista resultante *areas_2*."
   ]
  },
  {
   "cell_type": "code",
   "execution_count": 2,
   "metadata": {},
   "outputs": [],
   "source": [
    "# Create the areas list and make some changes\n",
    "areas = [\"hallway\", 11.25, \"kitchen\", 18.0, \"chill zone\", 20.0,\n",
    "         \"bedroom\", 10.75, \"bathroom\", 10.50]\n",
    "\n",
    "# Add poolhouse data to areas, new list is areas_1\n",
    "areas_1 = areas + [\"poolhouse\", 24.5]\n",
    "\n",
    "# Add garage data to areas_1, new list is areas_2\n",
    "areas_2 = areas_1 + [\"garage\", 15.45]"
   ]
  },
  {
   "cell_type": "markdown",
   "metadata": {},
   "source": [
    "## Eliminar elementos de la lista\n",
    "\n",
    "Finalmente, también puede eliminar elementos de su lista. Puede hacer esto con la declaración *del*:\n",
    "```python\n",
    "x = [\"a\", \"b\", \"c\", \"d\"]\n",
    "del(x[1])\n",
    "```   \n",
    "Preste atención aquí: tan pronto como elimine un elemento de una lista, ¡los índices de los elementos que vienen después del elemento eliminado cambian todos!\n",
    "\n",
    "La versión actualizada y extendida de la areasque ha creado en los ejercicios anteriores se codifica a continuación. Puede copiar y pegar esto en las celdas de jupyter para jugar con el resultado.\n",
    "\n",
    "```python\n",
    "areas = [\"hallway\", 11.25, \"kitchen\", 18.0,  \n",
    "            \"chill zone\", 20.0, \"bedroom\", 10.75,  \n",
    "             \"bathroom\", 10.50, \"poolhouse\", 24.5,  \n",
    "             \"garage\", 15.45]\n",
    "```         \n",
    "¡Hubo un error! La cantidad que ganó con la lotería no es tan grande después de todo y parece que la casa de la piscina no va a suceder. Decide eliminar la cadena y el flotante correspondiente de la lista *areas*.\n",
    "\n",
    "El ;signo se usa para colocar comandos en la misma línea. Los siguientes dos fragmentos de código son equivalentes:\n",
    "\n",
    "## Misma linea\n",
    "command1; command2\n",
    "\n",
    "## Lineas separadas\n",
    "command1  \n",
    "command2\n",
    "\n",
    "**Actividad**\n",
    "\n",
    "¿Cuál de los fragmentos de código hará el trabajo por nosotros?\n",
    "\n",
    "Respuestas posibles\n",
    "```python\n",
    "* del(areas[10]); del(areas[11])  \n",
    "* del(areas[10:11])  \n",
    "* del(areas[-4:-2])  \n",
    "* del(areas[-3]); del(areas[-4])  \n",
    "``` "
   ]
  },
  {
   "cell_type": "markdown",
   "metadata": {},
   "source": [
    "## Funcionamiento interno de listas\n",
    "\n",
    "El código Python en el script ya crea una lista con el nombre areasy una copia nombrada *areas_copy*. A continuación, *areas_copy* se cambia el primer elemento de la lista y se imprime la lista *areas*. Si presiona *Run Code*, verá que aunque ha cambiado *areas_copy*, el cambio también tiene efecto en la lista *areas*. Eso es porque *areas* y *areas_copy* apuntan a la misma lista.\n",
    "\n",
    "Si desea evitar que los cambios *areas_copy* también surtan efecto *areas*, tendrá que hacer una copia más explícita de la lista *areas*. Puede hacer esto con list() o usando [:].\n",
    "\n",
    "**Actividad**\n",
    "\n",
    "Cambie el segundo comando, que crea la variable *areas_copy*, de modo que *areas_copy* sea una copia explícita de *areas*. Después de su edición, los cambios realizados en *areas_copy* no deberían afectar *areas*."
   ]
  },
  {
   "cell_type": "code",
   "execution_count": 4,
   "metadata": {},
   "outputs": [
    {
     "name": "stdout",
     "output_type": "stream",
     "text": [
      "[5.0, 18.0, 20.0, 10.75, 9.5]\n"
     ]
    }
   ],
   "source": [
    "# Create list areas\n",
    "areas = [11.25, 18.0, 20.0, 10.75, 9.50]\n",
    "\n",
    "# Create areas_copy\n",
    "areas_copy = areas\n",
    "\n",
    "# Change areas_copy\n",
    "areas_copy[0] = 5.0\n",
    "\n",
    "# Print areas\n",
    "print(areas)"
   ]
  },
  {
   "cell_type": "code",
   "execution_count": null,
   "metadata": {},
   "outputs": [],
   "source": []
  }
 ],
 "metadata": {
  "kernelspec": {
   "display_name": "Python 3",
   "language": "python",
   "name": "python3"
  },
  "language_info": {
   "codemirror_mode": {
    "name": "ipython",
    "version": 3
   },
   "file_extension": ".py",
   "mimetype": "text/x-python",
   "name": "python",
   "nbconvert_exporter": "python",
   "pygments_lexer": "ipython3",
   "version": "3.7.3"
  }
 },
 "nbformat": 4,
 "nbformat_minor": 2
}
